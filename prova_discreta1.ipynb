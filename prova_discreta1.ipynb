{
  "cells": [
    {
      "cell_type": "markdown",
      "metadata": {
        "id": "view-in-github",
        "colab_type": "text"
      },
      "source": [
        "<a href=\"https://colab.research.google.com/github/hawkilol/simDisc/blob/main/prova_discreta1.ipynb\" target=\"_parent\"><img src=\"https://colab.research.google.com/assets/colab-badge.svg\" alt=\"Open In Colab\"/></a>"
      ]
    },
    {
      "cell_type": "markdown",
      "source": [
        "# Alunos\n",
        "___\n",
        "- ALFREDO GABRIEL DE SOUSA OLIVEIRA, 202004940020\n",
        "\n",
        "- BRUNO EIKI NISHIMURA, 202004940017\n",
        "\n",
        "- KALIL SALDANHA KALIFFE, 202004940030\n",
        "\n",
        "- MARCUS MACIEL OLIVEIRA, 202004940003"
      ],
      "metadata": {
        "id": "ETt9qQFqmmEd"
      },
      "id": "ETt9qQFqmmEd"
    },
    {
      "cell_type": "code",
      "execution_count": null,
      "id": "a5d10a50-3134-414a-9cd1-bbcf5c40b0e6",
      "metadata": {
        "id": "a5d10a50-3134-414a-9cd1-bbcf5c40b0e6",
        "tags": []
      },
      "outputs": [],
      "source": [
        "from typing import List, Tuple, Set, Dict"
      ]
    },
    {
      "cell_type": "code",
      "execution_count": null,
      "id": "e5191071-3b87-413b-a532-c3ab538fbf3e",
      "metadata": {
        "id": "e5191071-3b87-413b-a532-c3ab538fbf3e",
        "tags": []
      },
      "outputs": [],
      "source": [
        "import pandas as pd\n",
        "import math\n",
        "from matplotlib import pyplot as plt"
      ]
    },
    {
      "cell_type": "code",
      "execution_count": null,
      "id": "b4d2f804-232d-4c66-8c77-01b915b5b570",
      "metadata": {
        "id": "b4d2f804-232d-4c66-8c77-01b915b5b570",
        "tags": []
      },
      "outputs": [],
      "source": [
        "import statistics as st"
      ]
    },
    {
      "cell_type": "code",
      "source": [
        "!pip install sinpy pandas matplotlib"
      ],
      "metadata": {
        "colab": {
          "base_uri": "https://localhost:8080/"
        },
        "id": "IUV8vI9QAWcf",
        "outputId": "df876cbb-5bca-4fd7-f30f-8e1e473263c7"
      },
      "id": "IUV8vI9QAWcf",
      "execution_count": null,
      "outputs": [
        {
          "output_type": "stream",
          "name": "stdout",
          "text": [
            "Looking in indexes: https://pypi.org/simple, https://us-python.pkg.dev/colab-wheels/public/simple/\n",
            "Collecting sinpy\n",
            "  Downloading sinpy-1.0.tar.gz (1.9 kB)\n",
            "  Preparing metadata (setup.py) ... \u001b[?25l\u001b[?25hdone\n",
            "Requirement already satisfied: pandas in /usr/local/lib/python3.10/dist-packages (1.5.3)\n",
            "Requirement already satisfied: matplotlib in /usr/local/lib/python3.10/dist-packages (3.7.1)\n",
            "Requirement already satisfied: sympy in /usr/local/lib/python3.10/dist-packages (from sinpy) (1.11.1)\n",
            "Requirement already satisfied: numpy in /usr/local/lib/python3.10/dist-packages (from sinpy) (1.22.4)\n",
            "Requirement already satisfied: python-dateutil>=2.8.1 in /usr/local/lib/python3.10/dist-packages (from pandas) (2.8.2)\n",
            "Requirement already satisfied: pytz>=2020.1 in /usr/local/lib/python3.10/dist-packages (from pandas) (2022.7.1)\n",
            "Requirement already satisfied: contourpy>=1.0.1 in /usr/local/lib/python3.10/dist-packages (from matplotlib) (1.0.7)\n",
            "Requirement already satisfied: cycler>=0.10 in /usr/local/lib/python3.10/dist-packages (from matplotlib) (0.11.0)\n",
            "Requirement already satisfied: fonttools>=4.22.0 in /usr/local/lib/python3.10/dist-packages (from matplotlib) (4.39.3)\n",
            "Requirement already satisfied: kiwisolver>=1.0.1 in /usr/local/lib/python3.10/dist-packages (from matplotlib) (1.4.4)\n",
            "Requirement already satisfied: packaging>=20.0 in /usr/local/lib/python3.10/dist-packages (from matplotlib) (23.1)\n",
            "Requirement already satisfied: pillow>=6.2.0 in /usr/local/lib/python3.10/dist-packages (from matplotlib) (8.4.0)\n",
            "Requirement already satisfied: pyparsing>=2.3.1 in /usr/local/lib/python3.10/dist-packages (from matplotlib) (3.0.9)\n",
            "Requirement already satisfied: six>=1.5 in /usr/local/lib/python3.10/dist-packages (from python-dateutil>=2.8.1->pandas) (1.16.0)\n",
            "Requirement already satisfied: mpmath>=0.19 in /usr/local/lib/python3.10/dist-packages (from sympy->sinpy) (1.3.0)\n",
            "Building wheels for collected packages: sinpy\n",
            "  Building wheel for sinpy (setup.py) ... \u001b[?25l\u001b[?25hdone\n",
            "  Created wheel for sinpy: filename=sinpy-1.0-py3-none-any.whl size=2144 sha256=3fa87fe075263296709bf7fd9c5fa1e11fdaa18afd71fe8be0f85acc3d6504c2\n",
            "  Stored in directory: /root/.cache/pip/wheels/b8/5e/1a/58da4d2d46d53935bbef7a60a791ff0a9aa253b90e6418b04e\n",
            "Successfully built sinpy\n",
            "Installing collected packages: sinpy\n",
            "Successfully installed sinpy-1.0\n"
          ]
        }
      ]
    },
    {
      "cell_type": "code",
      "execution_count": null,
      "id": "c8edd99c-d4aa-4980-bdb7-06679493b955",
      "metadata": {
        "id": "c8edd99c-d4aa-4980-bdb7-06679493b955",
        "tags": []
      },
      "outputs": [],
      "source": [
        "import sinpy"
      ]
    },
    {
      "cell_type": "code",
      "execution_count": null,
      "id": "939c0953-f610-4db9-9b57-b0719227a859",
      "metadata": {
        "id": "939c0953-f610-4db9-9b57-b0719227a859",
        "tags": []
      },
      "outputs": [],
      "source": [
        "import scipy\n",
        "from scipy.stats import norm\n",
        "from scipy.stats import lognorm"
      ]
    },
    {
      "cell_type": "code",
      "execution_count": null,
      "id": "d3987bae-0f6d-4fd3-9d16-d2c91d194c8f",
      "metadata": {
        "id": "d3987bae-0f6d-4fd3-9d16-d2c91d194c8f",
        "tags": []
      },
      "outputs": [],
      "source": [
        "def numeroDeClasses(dados):\n",
        "    return round(1+3.3 * math.log10(len(dados)))"
      ]
    },
    {
      "cell_type": "code",
      "execution_count": null,
      "id": "e6bda60f-ce84-411c-9b4f-447cd69a7850",
      "metadata": {
        "id": "e6bda60f-ce84-411c-9b4f-447cd69a7850",
        "tags": []
      },
      "outputs": [],
      "source": [
        "# Remover outlier\n",
        "\n",
        "def removeOut(dados):\n",
        "    quartils = st.quantiles(dados)\n",
        "    semOut = []\n",
        "    A = quartils[2] -  quartils[0]\n",
        "    for k in dados:\n",
        "        tmp = True\n",
        "        #if(k < quartils[0] - 1.5 * A or k > quartils[2] + 1.5 * A):\n",
        "        #    print(k)\n",
        "        #    tmp = False\n",
        "        #    dados.remove(k)\n",
        "        if((k < quartils[0] - 3* A or k > quartils[2] + 3 * A) and tmp):\n",
        "            print(k)\n",
        "            dados.remove(k)\n",
        "\n",
        ""
      ]
    },
    {
      "cell_type": "markdown",
      "id": "uDVkQ3RYXd4B",
      "metadata": {
        "id": "uDVkQ3RYXd4B"
      },
      "source": [
        "# PROVA\n",
        "___\n",
        "1) A partir do conjunto de dados utilizado como entrada na prova, **realize o tratamento de outliers extremos** e forneça os seguintes valores:\n",
        "\n",
        "a) Qual a **amplitude interquartil**? (1,0)\n",
        "\n",
        "b) Qual a **média**? (1,0)\n",
        "\n",
        "c) Qual o **desvio padrão**? (1,0)\n",
        "\n",
        "d) Aplique o **método KS para $\\alpha$ = 0,05** e informe a **função de probabilidade** descrita por estes dados, destacando também: (3,5)\n",
        "\n",
        "- o número de classes do histograma;\n",
        "\n",
        "- o valor do D-crítico calculado na tabela do método KS;\n",
        "\n",
        "- a maior diferença encontrada entre a frequência observada acumulada\n",
        "normalizada e a frequência teórica acumulada normalizada.\n"
      ]
    },
    {
      "cell_type": "markdown",
      "source": [
        "> # Conjunto de dados utilizado como entrada na prova"
      ],
      "metadata": {
        "id": "3NqCaH2zCND3"
      },
      "id": "3NqCaH2zCND3"
    },
    {
      "cell_type": "code",
      "execution_count": null,
      "id": "2GF48A1dXe0r",
      "metadata": {
        "id": "2GF48A1dXe0r",
        "tags": []
      },
      "outputs": [],
      "source": [
        "dadosIni = [64,67,94,89,119,70,81,104,89,61,93,79,84,\n",
        "76,58,84,99,83,111,87,72,104,55,76,102,100,\n",
        "88,86,75,89,92,67,99,86,116,60,46,110,104,\n",
        "87,104,68,88,94,48,99,91,88,99,57,78,65,\n",
        "74,82,79,115,71,54,114,93,96,60,111,104,114,\n",
        "78,127,60,82,131,71,111,101,120,91,84,80,113,\n",
        "87,104,81,134,71,112,74,66,69,83,90,79,98,\n",
        "88,124,47,97,108,78,104,49,122,101,91,75,45,\n",
        "91,89,88,78,84,102,72,78,92,116,79,103,65,\n",
        "101,29,87,71,127,230,94,79,80,75,74,88,27,\n",
        "50,86,87,77,114,95,77,87,96,101,78,105,58,\n",
        "70,70,99,62,81,93,87,87,90,87,82,117,68,\n",
        "72,118,95,127,106,88,81,109,104,108,114,96,94,\n",
        "111,69,108,101,55,92,89,84,38,54,55,79,77,\n",
        "127,79,49,62,104,88,59,84,126,54,101,79,79,\n",
        "100,89,100,70,85,54,315]"
      ]
    },
    {
      "cell_type": "markdown",
      "id": "9a8411d0-f173-4531-b503-c177dc8da138",
      "metadata": {
        "tags": [],
        "id": "9a8411d0-f173-4531-b503-c177dc8da138"
      },
      "source": [
        "> # Análise de Dados Gerais dos Dados incluindo Outliers"
      ]
    },
    {
      "cell_type": "code",
      "source": [
        "st.quantiles(dadosIni)"
      ],
      "metadata": {
        "colab": {
          "base_uri": "https://localhost:8080/"
        },
        "id": "1Kyevmtxkb8Q",
        "outputId": "da700d38-2c69-4d54-858b-d490a21acbdd"
      },
      "id": "1Kyevmtxkb8Q",
      "execution_count": null,
      "outputs": [
        {
          "output_type": "execute_result",
          "data": {
            "text/plain": [
              "[74.0, 87.0, 101.0]"
            ]
          },
          "metadata": {},
          "execution_count": 10
        }
      ]
    },
    {
      "cell_type": "code",
      "execution_count": null,
      "id": "57db16d1-3af9-4083-9a10-dd0771e45327",
      "metadata": {
        "tags": [],
        "colab": {
          "base_uri": "https://localhost:8080/",
          "height": 599
        },
        "id": "57db16d1-3af9-4083-9a10-dd0771e45327",
        "outputId": "7006c1ce-5335-461a-ca58-310254a17a41"
      },
      "outputs": [
        {
          "output_type": "display_data",
          "data": {
            "text/plain": [
              "<Figure size 1000x700 with 1 Axes>"
            ],
            "image/png": "[encoded data removed]"
          },
          "metadata": {}
        }
      ],
      "source": [
        "plt.figure(figsize= (10,7))\n",
        "plt.boxplot(dadosIni)\n",
        "plt.show()"
      ]
    },
    {
      "cell_type": "code",
      "execution_count": null,
      "id": "90e4061e-54cd-4571-b993-4d70b8c7c4a5",
      "metadata": {
        "tags": [],
        "colab": {
          "base_uri": "https://localhost:8080/"
        },
        "id": "90e4061e-54cd-4571-b993-4d70b8c7c4a5",
        "outputId": "56c11ae4-1777-4d6e-a81c-a7fbfe088891"
      },
      "outputs": [
        {
          "output_type": "execute_result",
          "data": {
            "text/plain": [
              "9"
            ]
          },
          "metadata": {},
          "execution_count": 12
        }
      ],
      "source": [
        "numeroDeClasses(dadosIni)"
      ]
    },
    {
      "cell_type": "code",
      "execution_count": null,
      "id": "f59cadcc-c204-4fbe-a9b6-32771eb848aa",
      "metadata": {
        "tags": [],
        "colab": {
          "base_uri": "https://localhost:8080/",
          "height": 430
        },
        "id": "f59cadcc-c204-4fbe-a9b6-32771eb848aa",
        "outputId": "8897e89d-022f-4c01-a044-5bb638c4eedb"
      },
      "outputs": [
        {
          "output_type": "display_data",
          "data": {
            "text/plain": [
              "<Figure size 640x480 with 1 Axes>"
            ],
            "image/png": "[encoded data removed]"
          },
          "metadata": {}
        }
      ],
      "source": [
        "plt.hist(dadosIni, bins=numeroDeClasses(dadosIni))\n",
        "plt.show()"
      ]
    },
    {
      "cell_type": "markdown",
      "id": "FeLjEgr-Y0zY",
      "metadata": {
        "id": "FeLjEgr-Y0zY"
      },
      "source": [
        "> # Análise de Dados Gerais dos Dados excluindo Outliers extremos"
      ]
    },
    {
      "cell_type": "markdown",
      "source": [
        ">> ## Valores Removidos"
      ],
      "metadata": {
        "id": "zeQDptuVDXcV"
      },
      "id": "zeQDptuVDXcV"
    },
    {
      "cell_type": "code",
      "execution_count": null,
      "id": "J7XMTV3dXrrZ",
      "metadata": {
        "colab": {
          "base_uri": "https://localhost:8080/"
        },
        "id": "J7XMTV3dXrrZ",
        "outputId": "d16cab26-3b4a-4e6b-e3a0-402625a8d376",
        "tags": []
      },
      "outputs": [
        {
          "output_type": "stream",
          "name": "stdout",
          "text": [
            "230\n",
            "315\n"
          ]
        }
      ],
      "source": [
        "dados_sem_out_ext = dadosIni\n",
        "removeOut(dados_sem_out_ext)"
      ]
    },
    {
      "cell_type": "markdown",
      "source": [
        ">> ## Gráficos Gerais"
      ],
      "metadata": {
        "id": "T-je0RR1Di7T"
      },
      "id": "T-je0RR1Di7T"
    },
    {
      "cell_type": "code",
      "execution_count": null,
      "id": "6c075d24-c088-4a37-a571-11135de92d77",
      "metadata": {
        "tags": [],
        "colab": {
          "base_uri": "https://localhost:8080/",
          "height": 599
        },
        "id": "6c075d24-c088-4a37-a571-11135de92d77",
        "outputId": "3d87df67-4d05-4ed1-8177-3649e04fce5a"
      },
      "outputs": [
        {
          "output_type": "display_data",
          "data": {
            "text/plain": [
              "<Figure size 1000x700 with 1 Axes>"
            ],
            "image/png": "[encoded data removed]"
          },
          "metadata": {}
        }
      ],
      "source": [
        "plt.figure(figsize= (10,7))\n",
        "plt.boxplot(dados_sem_out_ext)\n",
        "plt.show()"
      ]
    },
    {
      "cell_type": "markdown",
      "source": [
        ">>> ### a) Qual a **amplitude interquartil**? (1,0)"
      ],
      "metadata": {
        "id": "8ze2Fao3DyJU"
      },
      "id": "8ze2Fao3DyJU"
    },
    {
      "cell_type": "markdown",
      "id": "RSscDBBOY4HB",
      "metadata": {
        "id": "RSscDBBOY4HB",
        "tags": []
      },
      "source": [
        ">>>> ### Quartiles"
      ]
    },
    {
      "cell_type": "code",
      "execution_count": null,
      "id": "pHUUj5oVYi2K",
      "metadata": {
        "colab": {
          "base_uri": "https://localhost:8080/"
        },
        "id": "pHUUj5oVYi2K",
        "outputId": "bd00bfb6-0eae-4cdc-aedb-2cd87ccb0522",
        "tags": []
      },
      "outputs": [
        {
          "output_type": "execute_result",
          "data": {
            "text/plain": [
              "[74.0, 87.0, 101.0]"
            ]
          },
          "metadata": {},
          "execution_count": 16
        }
      ],
      "source": [
        "st.quantiles(dados_sem_out_ext)"
      ]
    },
    {
      "cell_type": "markdown",
      "source": [
        ">>>> ### Amplitude Interquatil"
      ],
      "metadata": {
        "id": "VyWGMEk8F7Co"
      },
      "id": "VyWGMEk8F7Co"
    },
    {
      "cell_type": "code",
      "source": [
        "provaQuantil = st.quantiles(dados_sem_out_ext)\n",
        "provaAmpInterQuantil = provaQuantil[2] - provaQuantil[0]\n",
        "provaAmpInterQuantil"
      ],
      "metadata": {
        "id": "FMZG_MgJE3Iy",
        "outputId": "ea182c3b-f590-4d9c-cf89-98af8146458c",
        "colab": {
          "base_uri": "https://localhost:8080/"
        }
      },
      "id": "FMZG_MgJE3Iy",
      "execution_count": null,
      "outputs": [
        {
          "output_type": "execute_result",
          "data": {
            "text/plain": [
              "27.0"
            ]
          },
          "metadata": {},
          "execution_count": 17
        }
      ]
    },
    {
      "cell_type": "markdown",
      "id": "U0LRH6MwY8XA",
      "metadata": {
        "id": "U0LRH6MwY8XA"
      },
      "source": [
        ">>> ### b) Qual a **média**? (1,0)\n"
      ]
    },
    {
      "cell_type": "code",
      "execution_count": null,
      "id": "eZSWs1RCY6Mv",
      "metadata": {
        "colab": {
          "base_uri": "https://localhost:8080/"
        },
        "id": "eZSWs1RCY6Mv",
        "outputId": "75368450-201b-4152-817e-9c920ab9050f",
        "tags": []
      },
      "outputs": [
        {
          "output_type": "execute_result",
          "data": {
            "text/plain": [
              "86.32"
            ]
          },
          "metadata": {},
          "execution_count": 18
        }
      ],
      "source": [
        "media = st.mean(dados_sem_out_ext)\n",
        "media"
      ]
    },
    {
      "cell_type": "markdown",
      "id": "TfHquI0KZW0C",
      "metadata": {
        "id": "TfHquI0KZW0C"
      },
      "source": [
        ">>> ### c) Qual o desvio padrão? (1,0)"
      ]
    },
    {
      "cell_type": "code",
      "execution_count": null,
      "id": "pEDS8212ZVzE",
      "metadata": {
        "colab": {
          "base_uri": "https://localhost:8080/"
        },
        "id": "pEDS8212ZVzE",
        "outputId": "6c53acbd-9aa9-4ac2-e634-eeb3cf279b19",
        "tags": []
      },
      "outputs": [
        {
          "output_type": "execute_result",
          "data": {
            "text/plain": [
              "20.343225756277057"
            ]
          },
          "metadata": {},
          "execution_count": 19
        }
      ],
      "source": [
        "st.stdev(dados_sem_out_ext)"
      ]
    },
    {
      "cell_type": "markdown",
      "id": "44094234-e9b8-413b-bdd4-06b3123d0797",
      "metadata": {
        "id": "44094234-e9b8-413b-bdd4-06b3123d0797"
      },
      "source": [
        ">>>  ###  Destaque o número de classes do histograma;\n"
      ]
    },
    {
      "cell_type": "code",
      "execution_count": null,
      "id": "99e4233f-6068-4a6e-a75e-0ad5669a45c8",
      "metadata": {
        "tags": [],
        "colab": {
          "base_uri": "https://localhost:8080/"
        },
        "id": "99e4233f-6068-4a6e-a75e-0ad5669a45c8",
        "outputId": "0d0e434b-f905-4b33-d880-94fb413eca87"
      },
      "outputs": [
        {
          "output_type": "execute_result",
          "data": {
            "text/plain": [
              "9"
            ]
          },
          "metadata": {},
          "execution_count": 20
        }
      ],
      "source": [
        "numeroDeClasses(dados_sem_out_ext)"
      ]
    },
    {
      "cell_type": "code",
      "execution_count": null,
      "id": "7edbe63d-8980-49bd-a92c-2c59246a77e7",
      "metadata": {
        "tags": [],
        "colab": {
          "base_uri": "https://localhost:8080/",
          "height": 430
        },
        "id": "7edbe63d-8980-49bd-a92c-2c59246a77e7",
        "outputId": "6dcb34b7-ac09-4171-b7af-8d4de9e720da"
      },
      "outputs": [
        {
          "output_type": "display_data",
          "data": {
            "text/plain": [
              "<Figure size 640x480 with 1 Axes>"
            ],
            "image/png": "[encoded data removed]"
          },
          "metadata": {}
        }
      ],
      "source": [
        "plt.hist(dados_sem_out_ext, bins=numeroDeClasses(dados_sem_out_ext))\n",
        "plt.show()"
      ]
    },
    {
      "cell_type": "markdown",
      "source": [
        "#### Baseado no Histograma apresentado, deduz-se visualmente que a função de probabilidade utilizada é a **DISTRIBUIÇÃO NORMAL**."
      ],
      "metadata": {
        "id": "kqaz75JYHqU3"
      },
      "id": "kqaz75JYHqU3"
    },
    {
      "cell_type": "markdown",
      "id": "llEu2_BQmzwd",
      "metadata": {
        "id": "llEu2_BQmzwd"
      },
      "source": [
        "## Teste de Aderência (Kolmogorov-Smirnov)\n"
      ]
    },
    {
      "cell_type": "code",
      "execution_count": null,
      "id": "kWQfqH6wZhEJ",
      "metadata": {
        "id": "kWQfqH6wZhEJ",
        "tags": []
      },
      "outputs": [],
      "source": [
        "df = pd.DataFrame([], columns=[\"valorObservado\", \"frequenciaObservada\", \"frequenciaAcumuladaObservada\", \"frequenciaAcumuladaObservadaNormalizada\"])"
      ]
    },
    {
      "cell_type": "code",
      "execution_count": null,
      "id": "DmEuAGcurXJE",
      "metadata": {
        "id": "DmEuAGcurXJE",
        "tags": []
      },
      "outputs": [],
      "source": [
        "count = [0 for k in range(max(dados_sem_out_ext) + 1)]"
      ]
    },
    {
      "cell_type": "code",
      "execution_count": null,
      "id": "3uyFO-6mrXJj",
      "metadata": {
        "id": "3uyFO-6mrXJj",
        "tags": []
      },
      "outputs": [],
      "source": [
        "for i in dados_sem_out_ext:\n",
        "    count[i] += 1"
      ]
    },
    {
      "cell_type": "code",
      "execution_count": null,
      "id": "Ct6AItbwrXJj",
      "metadata": {
        "colab": {
          "base_uri": "https://localhost:8080/"
        },
        "id": "Ct6AItbwrXJj",
        "outputId": "38951207-807b-4706-d2a1-46d6821ad922",
        "tags": []
      },
      "outputs": [
        {
          "output_type": "execute_result",
          "data": {
            "text/plain": [
              "[0,\n",
              " 0,\n",
              " 0,\n",
              " 0,\n",
              " 0,\n",
              " 0,\n",
              " 0,\n",
              " 0,\n",
              " 0,\n",
              " 0,\n",
              " 0,\n",
              " 0,\n",
              " 0,\n",
              " 0,\n",
              " 0,\n",
              " 0,\n",
              " 0,\n",
              " 0,\n",
              " 0,\n",
              " 0,\n",
              " 0,\n",
              " 0,\n",
              " 0,\n",
              " 0,\n",
              " 0,\n",
              " 0,\n",
              " 0,\n",
              " 1,\n",
              " 0,\n",
              " 1,\n",
              " 0,\n",
              " 0,\n",
              " 0,\n",
              " 0,\n",
              " 0,\n",
              " 0,\n",
              " 0,\n",
              " 0,\n",
              " 1,\n",
              " 0,\n",
              " 0,\n",
              " 0,\n",
              " 0,\n",
              " 0,\n",
              " 0,\n",
              " 1,\n",
              " 1,\n",
              " 1,\n",
              " 1,\n",
              " 2,\n",
              " 1,\n",
              " 0,\n",
              " 0,\n",
              " 0,\n",
              " 4,\n",
              " 3,\n",
              " 0,\n",
              " 1,\n",
              " 2,\n",
              " 1,\n",
              " 3,\n",
              " 1,\n",
              " 2,\n",
              " 0,\n",
              " 1,\n",
              " 2,\n",
              " 1,\n",
              " 2,\n",
              " 2,\n",
              " 2,\n",
              " 4,\n",
              " 4,\n",
              " 3,\n",
              " 0,\n",
              " 3,\n",
              " 3,\n",
              " 2,\n",
              " 3,\n",
              " 6,\n",
              " 9,\n",
              " 2,\n",
              " 4,\n",
              " 3,\n",
              " 2,\n",
              " 6,\n",
              " 1,\n",
              " 3,\n",
              " 9,\n",
              " 8,\n",
              " 6,\n",
              " 2,\n",
              " 4,\n",
              " 3,\n",
              " 3,\n",
              " 4,\n",
              " 2,\n",
              " 3,\n",
              " 1,\n",
              " 1,\n",
              " 5,\n",
              " 3,\n",
              " 6,\n",
              " 2,\n",
              " 1,\n",
              " 9,\n",
              " 1,\n",
              " 1,\n",
              " 0,\n",
              " 3,\n",
              " 1,\n",
              " 1,\n",
              " 4,\n",
              " 1,\n",
              " 1,\n",
              " 4,\n",
              " 1,\n",
              " 2,\n",
              " 1,\n",
              " 1,\n",
              " 1,\n",
              " 1,\n",
              " 0,\n",
              " 1,\n",
              " 0,\n",
              " 1,\n",
              " 0,\n",
              " 1,\n",
              " 4,\n",
              " 0,\n",
              " 0,\n",
              " 0,\n",
              " 1,\n",
              " 0,\n",
              " 0,\n",
              " 1]"
            ]
          },
          "metadata": {},
          "execution_count": 25
        }
      ],
      "source": [
        "count"
      ]
    },
    {
      "cell_type": "code",
      "source": [
        "dadosUniqCount = ({i:0 for i in range(min(dados_sem_out_ext), max(dados_sem_out_ext) + 1)})\n",
        "for key in dadosUniqCount.keys():\n",
        "    dadosUniqCount[key] = count[key]"
      ],
      "metadata": {
        "id": "Nz2YHWcYPmS9"
      },
      "id": "Nz2YHWcYPmS9",
      "execution_count": null,
      "outputs": []
    },
    {
      "cell_type": "code",
      "source": [
        "dadosUniqCount= dict(sorted(dadosUniqCount.items()))\n",
        "dadosUniqCount"
      ],
      "metadata": {
        "colab": {
          "base_uri": "https://localhost:8080/"
        },
        "id": "cSnWlW2ILtkz",
        "outputId": "0809d860-ea73-4bfb-ec96-9bcbeeac8f4c"
      },
      "id": "cSnWlW2ILtkz",
      "execution_count": null,
      "outputs": [
        {
          "output_type": "execute_result",
          "data": {
            "text/plain": [
              "{27: 1,\n",
              " 28: 0,\n",
              " 29: 1,\n",
              " 30: 0,\n",
              " 31: 0,\n",
              " 32: 0,\n",
              " 33: 0,\n",
              " 34: 0,\n",
              " 35: 0,\n",
              " 36: 0,\n",
              " 37: 0,\n",
              " 38: 1,\n",
              " 39: 0,\n",
              " 40: 0,\n",
              " 41: 0,\n",
              " 42: 0,\n",
              " 43: 0,\n",
              " 44: 0,\n",
              " 45: 1,\n",
              " 46: 1,\n",
              " 47: 1,\n",
              " 48: 1,\n",
              " 49: 2,\n",
              " 50: 1,\n",
              " 51: 0,\n",
              " 52: 0,\n",
              " 53: 0,\n",
              " 54: 4,\n",
              " 55: 3,\n",
              " 56: 0,\n",
              " 57: 1,\n",
              " 58: 2,\n",
              " 59: 1,\n",
              " 60: 3,\n",
              " 61: 1,\n",
              " 62: 2,\n",
              " 63: 0,\n",
              " 64: 1,\n",
              " 65: 2,\n",
              " 66: 1,\n",
              " 67: 2,\n",
              " 68: 2,\n",
              " 69: 2,\n",
              " 70: 4,\n",
              " 71: 4,\n",
              " 72: 3,\n",
              " 73: 0,\n",
              " 74: 3,\n",
              " 75: 3,\n",
              " 76: 2,\n",
              " 77: 3,\n",
              " 78: 6,\n",
              " 79: 9,\n",
              " 80: 2,\n",
              " 81: 4,\n",
              " 82: 3,\n",
              " 83: 2,\n",
              " 84: 6,\n",
              " 85: 1,\n",
              " 86: 3,\n",
              " 87: 9,\n",
              " 88: 8,\n",
              " 89: 6,\n",
              " 90: 2,\n",
              " 91: 4,\n",
              " 92: 3,\n",
              " 93: 3,\n",
              " 94: 4,\n",
              " 95: 2,\n",
              " 96: 3,\n",
              " 97: 1,\n",
              " 98: 1,\n",
              " 99: 5,\n",
              " 100: 3,\n",
              " 101: 6,\n",
              " 102: 2,\n",
              " 103: 1,\n",
              " 104: 9,\n",
              " 105: 1,\n",
              " 106: 1,\n",
              " 107: 0,\n",
              " 108: 3,\n",
              " 109: 1,\n",
              " 110: 1,\n",
              " 111: 4,\n",
              " 112: 1,\n",
              " 113: 1,\n",
              " 114: 4,\n",
              " 115: 1,\n",
              " 116: 2,\n",
              " 117: 1,\n",
              " 118: 1,\n",
              " 119: 1,\n",
              " 120: 1,\n",
              " 121: 0,\n",
              " 122: 1,\n",
              " 123: 0,\n",
              " 124: 1,\n",
              " 125: 0,\n",
              " 126: 1,\n",
              " 127: 4,\n",
              " 128: 0,\n",
              " 129: 0,\n",
              " 130: 0,\n",
              " 131: 1,\n",
              " 132: 0,\n",
              " 133: 0,\n",
              " 134: 1}"
            ]
          },
          "metadata": {},
          "execution_count": 27
        }
      ]
    },
    {
      "cell_type": "code",
      "execution_count": null,
      "id": "EBr_4L3qrXJn",
      "metadata": {
        "id": "EBr_4L3qrXJn",
        "tags": []
      },
      "outputs": [],
      "source": [
        "df.valorObservado = list(dadosUniqCount.keys())\n",
        "df.frequenciaObservada = list(dadosUniqCount.values())"
      ]
    },
    {
      "cell_type": "code",
      "execution_count": null,
      "id": "3VKQHv_zrXJn",
      "metadata": {
        "id": "3VKQHv_zrXJn",
        "tags": []
      },
      "outputs": [],
      "source": [
        "df.frequenciaAcumuladaObservada = 0\n",
        "frequenciaAOb = df.frequenciaAcumuladaObservada.to_list()"
      ]
    },
    {
      "cell_type": "code",
      "execution_count": null,
      "id": "rMu2MjJirXJo",
      "metadata": {
        "colab": {
          "base_uri": "https://localhost:8080/"
        },
        "id": "rMu2MjJirXJo",
        "outputId": "6de058a6-0f83-43ae-b570-31918783a95a",
        "tags": []
      },
      "outputs": [
        {
          "output_type": "stream",
          "name": "stdout",
          "text": [
            "[0, 0, 0, 0, 0, 0, 0, 0, 0, 0, 0, 0, 0, 0, 0, 0, 0, 0, 0, 0, 0, 0, 0, 0, 0, 0, 0, 0, 0, 0, 0, 0, 0, 0, 0, 0, 0, 0, 0, 0, 0, 0, 0, 0, 0, 0, 0, 0, 0, 0, 0, 0, 0, 0, 0, 0, 0, 0, 0, 0, 0, 0, 0, 0, 0, 0, 0, 0, 0, 0, 0, 0, 0, 0, 0, 0, 0, 0, 0, 0, 0, 0, 0, 0, 0, 0, 0, 0, 0, 0, 0, 0, 0, 0, 0, 0, 0, 0, 0, 0, 0, 0, 0, 0, 0, 0, 0, 0]\n"
          ]
        }
      ],
      "source": [
        "print(frequenciaAOb)"
      ]
    },
    {
      "cell_type": "code",
      "execution_count": null,
      "id": "U3ejhkfdrXJo",
      "metadata": {
        "id": "U3ejhkfdrXJo",
        "tags": []
      },
      "outputs": [],
      "source": [
        "for i in range(len(df)):\n",
        "    if(i == 0):\n",
        "        frequenciaAOb[i] = df.frequenciaObservada[0]\n",
        "    else:\n",
        "        frequenciaAOb[i] = (df.frequenciaObservada[i] + frequenciaAOb[i - 1])"
      ]
    },
    {
      "cell_type": "code",
      "execution_count": null,
      "id": "VGBZPbWnrXJo",
      "metadata": {
        "id": "VGBZPbWnrXJo",
        "tags": []
      },
      "outputs": [],
      "source": [
        "df.frequenciaAcumuladaObservada = frequenciaAOb"
      ]
    },
    {
      "cell_type": "code",
      "execution_count": null,
      "id": "CcoTnfrHrXJp",
      "metadata": {
        "id": "CcoTnfrHrXJp",
        "tags": []
      },
      "outputs": [],
      "source": [
        "df.frequenciaAcumuladaObservadaNormalizada = df.frequenciaAcumuladaObservada / df.frequenciaAcumuladaObservada.max()"
      ]
    },
    {
      "cell_type": "code",
      "execution_count": null,
      "id": "fMDwLDOMrXJq",
      "metadata": {
        "id": "fMDwLDOMrXJq",
        "tags": []
      },
      "outputs": [],
      "source": [
        "dados_norm_to_plot = norm.cdf(df.valorObservado, loc=media, scale=st.stdev(dados_sem_out_ext))"
      ]
    },
    {
      "cell_type": "code",
      "execution_count": null,
      "id": "ad14a336-ab50-4149-8d59-cb854f68d06d",
      "metadata": {
        "tags": [],
        "colab": {
          "base_uri": "https://localhost:8080/"
        },
        "id": "ad14a336-ab50-4149-8d59-cb854f68d06d",
        "outputId": "04432d18-badb-4df9-98ae-a7c9a6e214cb"
      },
      "outputs": [
        {
          "output_type": "execute_result",
          "data": {
            "text/plain": [
              "array([0.00177299, 0.00207321, 0.00241886, 0.00281584, 0.00327069,\n",
              "       0.00379057, 0.00438336, 0.00505764, 0.00582277, 0.00668889,\n",
              "       0.00766697, 0.00876882, 0.0100071 , 0.01139535, 0.01294797,\n",
              "       0.01468024, 0.01660828, 0.01874904, 0.02112025, 0.02374037,\n",
              "       0.02662856, 0.02980456, 0.03328862, 0.0371014 , 0.04126384,\n",
              "       0.04579705, 0.05072215, 0.05606009, 0.06183152, 0.0680566 ,\n",
              "       0.07475477, 0.0819446 , 0.08964357, 0.09786781, 0.10663199,\n",
              "       0.115949  , 0.12582983, 0.1362833 , 0.14731591, 0.15893167,\n",
              "       0.17113187, 0.18391502, 0.19727663, 0.2112092 , 0.22570205,\n",
              "       0.24074135, 0.25631004, 0.27238788, 0.28895143, 0.30597421,\n",
              "       0.32342673, 0.34127667, 0.35948903, 0.37802631, 0.3968488 ,\n",
              "       0.41591477, 0.43518076, 0.4546019 , 0.4741322 , 0.49372488,\n",
              "       0.51333271, 0.53290835, 0.55240471, 0.57177524, 0.59097432,\n",
              "       0.60995756, 0.62868209, 0.64710686, 0.66519294, 0.6829037 ,\n",
              "       0.7002051 , 0.7170658 , 0.73345739, 0.74935446, 0.76473474,\n",
              "       0.77957912, 0.7938717 , 0.80759978, 0.82075385, 0.8333275 ,\n",
              "       0.84531732, 0.85672285, 0.86754638, 0.87779283, 0.88746955,\n",
              "       0.89658617, 0.90515439, 0.91318776, 0.9207015 , 0.92771226,\n",
              "       0.93423793, 0.94029741, 0.94591044, 0.95109736, 0.95587895,\n",
              "       0.96027625, 0.96431039, 0.96800242, 0.97137322, 0.9744433 ,\n",
              "       0.97723274, 0.97976108, 0.98204724, 0.98410941, 0.98596507,\n",
              "       0.98763085, 0.98912258, 0.99045523])"
            ]
          },
          "metadata": {},
          "execution_count": 35
        }
      ],
      "source": [
        "dados_norm_to_plot"
      ]
    },
    {
      "cell_type": "code",
      "execution_count": null,
      "id": "AQAOcyFws_2G",
      "metadata": {
        "colab": {
          "base_uri": "https://localhost:8080/",
          "height": 430
        },
        "id": "AQAOcyFws_2G",
        "outputId": "cc791cb8-0bfe-4b48-8676-75df64d3ee28",
        "tags": []
      },
      "outputs": [
        {
          "output_type": "display_data",
          "data": {
            "text/plain": [
              "<Figure size 640x480 with 1 Axes>"
            ],
            "image/png": "[encoded data removed]"
          },
          "metadata": {}
        }
      ],
      "source": [
        "plt.plot(dados_norm_to_plot)\n",
        "plt.show()"
      ]
    },
    {
      "cell_type": "code",
      "source": [
        "plt.plot(df['frequenciaAcumuladaObservadaNormalizada'].to_numpy())\n",
        "plt.show()"
      ],
      "metadata": {
        "colab": {
          "base_uri": "https://localhost:8080/",
          "height": 430
        },
        "id": "Txl3PJ19ezNH",
        "outputId": "19d9de00-b135-4bc4-9502-ab8b9da21cd0"
      },
      "id": "Txl3PJ19ezNH",
      "execution_count": null,
      "outputs": [
        {
          "output_type": "display_data",
          "data": {
            "text/plain": [
              "<Figure size 640x480 with 1 Axes>"
            ],
            "image/png": "[encoded data removed]"
          },
          "metadata": {}
        }
      ]
    },
    {
      "cell_type": "code",
      "source": [
        "plt.plot(dados_norm_to_plot)\n",
        "plt.plot(df['frequenciaAcumuladaObservadaNormalizada'].to_numpy())\n",
        "plt.show()"
      ],
      "metadata": {
        "id": "YaGG2UDleuGt",
        "colab": {
          "base_uri": "https://localhost:8080/",
          "height": 430
        },
        "outputId": "59eacc78-f85a-4b41-daf4-4a7daba151ab"
      },
      "id": "YaGG2UDleuGt",
      "execution_count": null,
      "outputs": [
        {
          "output_type": "display_data",
          "data": {
            "text/plain": [
              "<Figure size 640x480 with 1 Axes>"
            ],
            "image/png": "[encoded data removed]"
          },
          "metadata": {}
        }
      ]
    },
    {
      "cell_type": "code",
      "source": [
        "len(df['frequenciaAcumuladaObservadaNormalizada'])"
      ],
      "metadata": {
        "id": "yoxZhasoeu4s",
        "colab": {
          "base_uri": "https://localhost:8080/"
        },
        "outputId": "f92ddf2d-6c63-44b4-bb73-ff1f2a756d9a"
      },
      "id": "yoxZhasoeu4s",
      "execution_count": null,
      "outputs": [
        {
          "output_type": "execute_result",
          "data": {
            "text/plain": [
              "108"
            ]
          },
          "metadata": {},
          "execution_count": 39
        }
      ]
    },
    {
      "cell_type": "code",
      "execution_count": null,
      "id": "TKF7QvF6s_2H",
      "metadata": {
        "colab": {
          "base_uri": "https://localhost:8080/"
        },
        "id": "TKF7QvF6s_2H",
        "outputId": "68463a60-e525-4628-9161-05f12b17105e",
        "tags": []
      },
      "outputs": [
        {
          "output_type": "execute_result",
          "data": {
            "text/plain": [
              "array([1., 1., 1., 1., 1., 1., 1., 1., 1., 1., 1., 1., 1., 1., 1., 1., 1.,\n",
              "       1., 1., 1., 1., 1., 1., 1., 1., 1., 1., 1., 1., 1., 1., 1., 1., 1.,\n",
              "       1., 1., 1., 1., 1., 1., 1., 1., 1., 1., 1., 1., 1., 1., 1., 1., 1.,\n",
              "       1., 1., 1., 1., 1., 1., 1., 1., 1., 1., 1., 1., 1., 1., 1., 1., 1.,\n",
              "       1., 1., 1., 1., 1., 1., 1., 1., 1., 1., 1., 1., 1., 1., 1., 1., 1.,\n",
              "       1., 1., 1., 1., 1., 1., 1., 1., 1., 1., 1., 1., 1., 1., 1., 1., 1.,\n",
              "       1., 1., 1., 1., 1., 1.])"
            ]
          },
          "metadata": {},
          "execution_count": 40
        }
      ],
      "source": [
        "scipy.stats.norm.cdf(df.valorObservado, loc=0, scale=1)"
      ]
    },
    {
      "cell_type": "code",
      "execution_count": null,
      "id": "JFKCAjXRs_2I",
      "metadata": {
        "id": "JFKCAjXRs_2I",
        "tags": []
      },
      "outputs": [],
      "source": [
        "df[\"frequenciaAcumuladaTeoricaNo\"] = norm.cdf(df.valorObservado, loc=media, scale=st.stdev(dados_sem_out_ext))"
      ]
    },
    {
      "cell_type": "code",
      "execution_count": null,
      "id": "t-Y8kmHjs_2I",
      "metadata": {
        "colab": {
          "base_uri": "https://localhost:8080/",
          "height": 488
        },
        "id": "t-Y8kmHjs_2I",
        "outputId": "79c340b2-6a7e-458a-f67b-d749d93faba7",
        "tags": []
      },
      "outputs": [
        {
          "output_type": "execute_result",
          "data": {
            "text/plain": [
              "     valorObservado  frequenciaObservada  frequenciaAcumuladaObservada  \\\n",
              "0                27                    1                             1   \n",
              "1                28                    0                             1   \n",
              "2                29                    1                             2   \n",
              "3                30                    0                             2   \n",
              "4                31                    0                             2   \n",
              "..              ...                  ...                           ...   \n",
              "103             130                    0                           198   \n",
              "104             131                    1                           199   \n",
              "105             132                    0                           199   \n",
              "106             133                    0                           199   \n",
              "107             134                    1                           200   \n",
              "\n",
              "     frequenciaAcumuladaObservadaNormalizada  frequenciaAcumuladaTeoricaNo  \n",
              "0                                      0.005                      0.001773  \n",
              "1                                      0.005                      0.002073  \n",
              "2                                      0.010                      0.002419  \n",
              "3                                      0.010                      0.002816  \n",
              "4                                      0.010                      0.003271  \n",
              "..                                       ...                           ...  \n",
              "103                                    0.990                      0.984109  \n",
              "104                                    0.995                      0.985965  \n",
              "105                                    0.995                      0.987631  \n",
              "106                                    0.995                      0.989123  \n",
              "107                                    1.000                      0.990455  \n",
              "\n",
              "[108 rows x 5 columns]"
            ],
            "text/html": [
              "\n",
              "  <div id=\"df-f8d9e15c-1589-435f-93a3-4930a78bbdc4\">\n",
              "    <div class=\"colab-df-container\">\n",
              "      <div>\n",
              "<style scoped>\n",
              "    .dataframe tbody tr th:only-of-type {\n",
              "        vertical-align: middle;\n",
              "    }\n",
              "\n",
              "    .dataframe tbody tr th {\n",
              "        vertical-align: top;\n",
              "    }\n",
              "\n",
              "    .dataframe thead th {\n",
              "        text-align: right;\n",
              "    }\n",
              "</style>\n",
              "<table border=\"1\" class=\"dataframe\">\n",
              "  <thead>\n",
              "    <tr style=\"text-align: right;\">\n",
              "      <th></th>\n",
              "      <th>valorObservado</th>\n",
              "      <th>frequenciaObservada</th>\n",
              "      <th>frequenciaAcumuladaObservada</th>\n",
              "      <th>frequenciaAcumuladaObservadaNormalizada</th>\n",
              "      <th>frequenciaAcumuladaTeoricaNo</th>\n",
              "    </tr>\n",
              "  </thead>\n",
              "  <tbody>\n",
              "    <tr>\n",
              "      <th>0</th>\n",
              "      <td>27</td>\n",
              "      <td>1</td>\n",
              "      <td>1</td>\n",
              "      <td>0.005</td>\n",
              "      <td>0.001773</td>\n",
              "    </tr>\n",
              "    <tr>\n",
              "      <th>1</th>\n",
              "      <td>28</td>\n",
              "      <td>0</td>\n",
              "      <td>1</td>\n",
              "      <td>0.005</td>\n",
              "      <td>0.002073</td>\n",
              "    </tr>\n",
              "    <tr>\n",
              "      <th>2</th>\n",
              "      <td>29</td>\n",
              "      <td>1</td>\n",
              "      <td>2</td>\n",
              "      <td>0.010</td>\n",
              "      <td>0.002419</td>\n",
              "    </tr>\n",
              "    <tr>\n",
              "      <th>3</th>\n",
              "      <td>30</td>\n",
              "      <td>0</td>\n",
              "      <td>2</td>\n",
              "      <td>0.010</td>\n",
              "      <td>0.002816</td>\n",
              "    </tr>\n",
              "    <tr>\n",
              "      <th>4</th>\n",
              "      <td>31</td>\n",
              "      <td>0</td>\n",
              "      <td>2</td>\n",
              "      <td>0.010</td>\n",
              "      <td>0.003271</td>\n",
              "    </tr>\n",
              "    <tr>\n",
              "      <th>...</th>\n",
              "      <td>...</td>\n",
              "      <td>...</td>\n",
              "      <td>...</td>\n",
              "      <td>...</td>\n",
              "      <td>...</td>\n",
              "    </tr>\n",
              "    <tr>\n",
              "      <th>103</th>\n",
              "      <td>130</td>\n",
              "      <td>0</td>\n",
              "      <td>198</td>\n",
              "      <td>0.990</td>\n",
              "      <td>0.984109</td>\n",
              "    </tr>\n",
              "    <tr>\n",
              "      <th>104</th>\n",
              "      <td>131</td>\n",
              "      <td>1</td>\n",
              "      <td>199</td>\n",
              "      <td>0.995</td>\n",
              "      <td>0.985965</td>\n",
              "    </tr>\n",
              "    <tr>\n",
              "      <th>105</th>\n",
              "      <td>132</td>\n",
              "      <td>0</td>\n",
              "      <td>199</td>\n",
              "      <td>0.995</td>\n",
              "      <td>0.987631</td>\n",
              "    </tr>\n",
              "    <tr>\n",
              "      <th>106</th>\n",
              "      <td>133</td>\n",
              "      <td>0</td>\n",
              "      <td>199</td>\n",
              "      <td>0.995</td>\n",
              "      <td>0.989123</td>\n",
              "    </tr>\n",
              "    <tr>\n",
              "      <th>107</th>\n",
              "      <td>134</td>\n",
              "      <td>1</td>\n",
              "      <td>200</td>\n",
              "      <td>1.000</td>\n",
              "      <td>0.990455</td>\n",
              "    </tr>\n",
              "  </tbody>\n",
              "</table>\n",
              "<p>108 rows × 5 columns</p>\n",
              "</div>\n",
              "      <button class=\"colab-df-convert\" onclick=\"convertToInteractive('df-f8d9e15c-1589-435f-93a3-4930a78bbdc4')\"\n",
              "              title=\"Convert this dataframe to an interactive table.\"\n",
              "              style=\"display:none;\">\n",
              "        \n",
              "  <svg xmlns=\"http://www.w3.org/2000/svg\" height=\"24px\"viewBox=\"0 0 24 24\"\n",
              "       width=\"24px\">\n",
              "    <path d=\"M0 0h24v24H0V0z\" fill=\"none\"/>\n",
              "    <path d=\"M18.56 5.44l.94 2.06.94-2.06 2.06-.94-2.06-.94-.94-2.06-.94 2.06-2.06.94zm-11 1L8.5 8.5l.94-2.06 2.06-.94-2.06-.94L8.5 2.5l-.94 2.06-2.06.94zm10 10l.94 2.06.94-2.06 2.06-.94-2.06-.94-.94-2.06-.94 2.06-2.06.94z\"/><path d=\"M17.41 7.96l-1.37-1.37c-.4-.4-.92-.59-1.43-.59-.52 0-1.04.2-1.43.59L10.3 9.45l-7.72 7.72c-.78.78-.78 2.05 0 2.83L4 21.41c.39.39.9.59 1.41.59.51 0 1.02-.2 1.41-.59l7.78-7.78 2.81-2.81c.8-.78.8-2.07 0-2.86zM5.41 20L4 18.59l7.72-7.72 1.47 1.35L5.41 20z\"/>\n",
              "  </svg>\n",
              "      </button>\n",
              "      \n",
              "  <style>\n",
              "    .colab-df-container {\n",
              "      display:flex;\n",
              "      flex-wrap:wrap;\n",
              "      gap: 12px;\n",
              "    }\n",
              "\n",
              "    .colab-df-convert {\n",
              "      background-color: #E8F0FE;\n",
              "      border: none;\n",
              "      border-radius: 50%;\n",
              "      cursor: pointer;\n",
              "      display: none;\n",
              "      fill: #1967D2;\n",
              "      height: 32px;\n",
              "      padding: 0 0 0 0;\n",
              "      width: 32px;\n",
              "    }\n",
              "\n",
              "    .colab-df-convert:hover {\n",
              "      background-color: #E2EBFA;\n",
              "      box-shadow: 0px 1px 2px rgba(60, 64, 67, 0.3), 0px 1px 3px 1px rgba(60, 64, 67, 0.15);\n",
              "      fill: #174EA6;\n",
              "    }\n",
              "\n",
              "    [theme=dark] .colab-df-convert {\n",
              "      background-color: #3B4455;\n",
              "      fill: #D2E3FC;\n",
              "    }\n",
              "\n",
              "    [theme=dark] .colab-df-convert:hover {\n",
              "      background-color: #434B5C;\n",
              "      box-shadow: 0px 1px 3px 1px rgba(0, 0, 0, 0.15);\n",
              "      filter: drop-shadow(0px 1px 2px rgba(0, 0, 0, 0.3));\n",
              "      fill: #FFFFFF;\n",
              "    }\n",
              "  </style>\n",
              "\n",
              "      <script>\n",
              "        const buttonEl =\n",
              "          document.querySelector('#df-f8d9e15c-1589-435f-93a3-4930a78bbdc4 button.colab-df-convert');\n",
              "        buttonEl.style.display =\n",
              "          google.colab.kernel.accessAllowed ? 'block' : 'none';\n",
              "\n",
              "        async function convertToInteractive(key) {\n",
              "          const element = document.querySelector('#df-f8d9e15c-1589-435f-93a3-4930a78bbdc4');\n",
              "          const dataTable =\n",
              "            await google.colab.kernel.invokeFunction('convertToInteractive',\n",
              "                                                     [key], {});\n",
              "          if (!dataTable) return;\n",
              "\n",
              "          const docLinkHtml = 'Like what you see? Visit the ' +\n",
              "            '<a target=\"_blank\" href=https://colab.research.google.com/notebooks/data_table.ipynb>data table notebook</a>'\n",
              "            + ' to learn more about interactive tables.';\n",
              "          element.innerHTML = '';\n",
              "          dataTable['output_type'] = 'display_data';\n",
              "          await google.colab.output.renderOutput(dataTable, element);\n",
              "          const docLink = document.createElement('div');\n",
              "          docLink.innerHTML = docLinkHtml;\n",
              "          element.appendChild(docLink);\n",
              "        }\n",
              "      </script>\n",
              "    </div>\n",
              "  </div>\n",
              "  "
            ]
          },
          "metadata": {},
          "execution_count": 42
        }
      ],
      "source": [
        "df"
      ]
    },
    {
      "cell_type": "markdown",
      "id": "78d0154b-b27b-418f-bff0-445d48d42448",
      "metadata": {
        "id": "78d0154b-b27b-418f-bff0-445d48d42448"
      },
      "source": [
        "# Tabela KS"
      ]
    },
    {
      "cell_type": "markdown",
      "source": [
        "#### A função de probabilidade descrita por estes dados é a da **Distribuição Normal**\n",
        "\n",
        "Foi utilizada a implementada pelo scipy"
      ],
      "metadata": {
        "id": "OJkZoSikA8n_"
      },
      "id": "OJkZoSikA8n_"
    },
    {
      "cell_type": "code",
      "execution_count": null,
      "id": "2sxuY3OFtD9u",
      "metadata": {
        "id": "2sxuY3OFtD9u",
        "tags": [],
        "colab": {
          "base_uri": "https://localhost:8080/",
          "height": 488
        },
        "outputId": "8d214b41-1645-45ce-8510-cfc11f4bbfbe"
      },
      "outputs": [
        {
          "output_type": "execute_result",
          "data": {
            "text/plain": [
              "     valorObservado  frequenciaObservada  frequenciaAcumuladaObservada  \\\n",
              "0                27                    1                             1   \n",
              "1                28                    0                             1   \n",
              "2                29                    1                             2   \n",
              "3                30                    0                             2   \n",
              "4                31                    0                             2   \n",
              "..              ...                  ...                           ...   \n",
              "103             130                    0                           198   \n",
              "104             131                    1                           199   \n",
              "105             132                    0                           199   \n",
              "106             133                    0                           199   \n",
              "107             134                    1                           200   \n",
              "\n",
              "     frequenciaAcumuladaObservadaNormalizada  frequenciaAcumuladaTeoricaNo  \\\n",
              "0                                      0.005                      0.001773   \n",
              "1                                      0.005                      0.002073   \n",
              "2                                      0.010                      0.002419   \n",
              "3                                      0.010                      0.002816   \n",
              "4                                      0.010                      0.003271   \n",
              "..                                       ...                           ...   \n",
              "103                                    0.990                      0.984109   \n",
              "104                                    0.995                      0.985965   \n",
              "105                                    0.995                      0.987631   \n",
              "106                                    0.995                      0.989123   \n",
              "107                                    1.000                      0.990455   \n",
              "\n",
              "            D  \n",
              "0    0.003227  \n",
              "1    0.002927  \n",
              "2    0.007581  \n",
              "3    0.007184  \n",
              "4    0.006729  \n",
              "..        ...  \n",
              "103  0.005891  \n",
              "104  0.009035  \n",
              "105  0.007369  \n",
              "106  0.005877  \n",
              "107  0.009545  \n",
              "\n",
              "[108 rows x 6 columns]"
            ],
            "text/html": [
              "\n",
              "  <div id=\"df-a95b9061-af05-4b18-b338-dfc7bef903c1\">\n",
              "    <div class=\"colab-df-container\">\n",
              "      <div>\n",
              "<style scoped>\n",
              "    .dataframe tbody tr th:only-of-type {\n",
              "        vertical-align: middle;\n",
              "    }\n",
              "\n",
              "    .dataframe tbody tr th {\n",
              "        vertical-align: top;\n",
              "    }\n",
              "\n",
              "    .dataframe thead th {\n",
              "        text-align: right;\n",
              "    }\n",
              "</style>\n",
              "<table border=\"1\" class=\"dataframe\">\n",
              "  <thead>\n",
              "    <tr style=\"text-align: right;\">\n",
              "      <th></th>\n",
              "      <th>valorObservado</th>\n",
              "      <th>frequenciaObservada</th>\n",
              "      <th>frequenciaAcumuladaObservada</th>\n",
              "      <th>frequenciaAcumuladaObservadaNormalizada</th>\n",
              "      <th>frequenciaAcumuladaTeoricaNo</th>\n",
              "      <th>D</th>\n",
              "    </tr>\n",
              "  </thead>\n",
              "  <tbody>\n",
              "    <tr>\n",
              "      <th>0</th>\n",
              "      <td>27</td>\n",
              "      <td>1</td>\n",
              "      <td>1</td>\n",
              "      <td>0.005</td>\n",
              "      <td>0.001773</td>\n",
              "      <td>0.003227</td>\n",
              "    </tr>\n",
              "    <tr>\n",
              "      <th>1</th>\n",
              "      <td>28</td>\n",
              "      <td>0</td>\n",
              "      <td>1</td>\n",
              "      <td>0.005</td>\n",
              "      <td>0.002073</td>\n",
              "      <td>0.002927</td>\n",
              "    </tr>\n",
              "    <tr>\n",
              "      <th>2</th>\n",
              "      <td>29</td>\n",
              "      <td>1</td>\n",
              "      <td>2</td>\n",
              "      <td>0.010</td>\n",
              "      <td>0.002419</td>\n",
              "      <td>0.007581</td>\n",
              "    </tr>\n",
              "    <tr>\n",
              "      <th>3</th>\n",
              "      <td>30</td>\n",
              "      <td>0</td>\n",
              "      <td>2</td>\n",
              "      <td>0.010</td>\n",
              "      <td>0.002816</td>\n",
              "      <td>0.007184</td>\n",
              "    </tr>\n",
              "    <tr>\n",
              "      <th>4</th>\n",
              "      <td>31</td>\n",
              "      <td>0</td>\n",
              "      <td>2</td>\n",
              "      <td>0.010</td>\n",
              "      <td>0.003271</td>\n",
              "      <td>0.006729</td>\n",
              "    </tr>\n",
              "    <tr>\n",
              "      <th>...</th>\n",
              "      <td>...</td>\n",
              "      <td>...</td>\n",
              "      <td>...</td>\n",
              "      <td>...</td>\n",
              "      <td>...</td>\n",
              "      <td>...</td>\n",
              "    </tr>\n",
              "    <tr>\n",
              "      <th>103</th>\n",
              "      <td>130</td>\n",
              "      <td>0</td>\n",
              "      <td>198</td>\n",
              "      <td>0.990</td>\n",
              "      <td>0.984109</td>\n",
              "      <td>0.005891</td>\n",
              "    </tr>\n",
              "    <tr>\n",
              "      <th>104</th>\n",
              "      <td>131</td>\n",
              "      <td>1</td>\n",
              "      <td>199</td>\n",
              "      <td>0.995</td>\n",
              "      <td>0.985965</td>\n",
              "      <td>0.009035</td>\n",
              "    </tr>\n",
              "    <tr>\n",
              "      <th>105</th>\n",
              "      <td>132</td>\n",
              "      <td>0</td>\n",
              "      <td>199</td>\n",
              "      <td>0.995</td>\n",
              "      <td>0.987631</td>\n",
              "      <td>0.007369</td>\n",
              "    </tr>\n",
              "    <tr>\n",
              "      <th>106</th>\n",
              "      <td>133</td>\n",
              "      <td>0</td>\n",
              "      <td>199</td>\n",
              "      <td>0.995</td>\n",
              "      <td>0.989123</td>\n",
              "      <td>0.005877</td>\n",
              "    </tr>\n",
              "    <tr>\n",
              "      <th>107</th>\n",
              "      <td>134</td>\n",
              "      <td>1</td>\n",
              "      <td>200</td>\n",
              "      <td>1.000</td>\n",
              "      <td>0.990455</td>\n",
              "      <td>0.009545</td>\n",
              "    </tr>\n",
              "  </tbody>\n",
              "</table>\n",
              "<p>108 rows × 6 columns</p>\n",
              "</div>\n",
              "      <button class=\"colab-df-convert\" onclick=\"convertToInteractive('df-a95b9061-af05-4b18-b338-dfc7bef903c1')\"\n",
              "              title=\"Convert this dataframe to an interactive table.\"\n",
              "              style=\"display:none;\">\n",
              "        \n",
              "  <svg xmlns=\"http://www.w3.org/2000/svg\" height=\"24px\"viewBox=\"0 0 24 24\"\n",
              "       width=\"24px\">\n",
              "    <path d=\"M0 0h24v24H0V0z\" fill=\"none\"/>\n",
              "    <path d=\"M18.56 5.44l.94 2.06.94-2.06 2.06-.94-2.06-.94-.94-2.06-.94 2.06-2.06.94zm-11 1L8.5 8.5l.94-2.06 2.06-.94-2.06-.94L8.5 2.5l-.94 2.06-2.06.94zm10 10l.94 2.06.94-2.06 2.06-.94-2.06-.94-.94-2.06-.94 2.06-2.06.94z\"/><path d=\"M17.41 7.96l-1.37-1.37c-.4-.4-.92-.59-1.43-.59-.52 0-1.04.2-1.43.59L10.3 9.45l-7.72 7.72c-.78.78-.78 2.05 0 2.83L4 21.41c.39.39.9.59 1.41.59.51 0 1.02-.2 1.41-.59l7.78-7.78 2.81-2.81c.8-.78.8-2.07 0-2.86zM5.41 20L4 18.59l7.72-7.72 1.47 1.35L5.41 20z\"/>\n",
              "  </svg>\n",
              "      </button>\n",
              "      \n",
              "  <style>\n",
              "    .colab-df-container {\n",
              "      display:flex;\n",
              "      flex-wrap:wrap;\n",
              "      gap: 12px;\n",
              "    }\n",
              "\n",
              "    .colab-df-convert {\n",
              "      background-color: #E8F0FE;\n",
              "      border: none;\n",
              "      border-radius: 50%;\n",
              "      cursor: pointer;\n",
              "      display: none;\n",
              "      fill: #1967D2;\n",
              "      height: 32px;\n",
              "      padding: 0 0 0 0;\n",
              "      width: 32px;\n",
              "    }\n",
              "\n",
              "    .colab-df-convert:hover {\n",
              "      background-color: #E2EBFA;\n",
              "      box-shadow: 0px 1px 2px rgba(60, 64, 67, 0.3), 0px 1px 3px 1px rgba(60, 64, 67, 0.15);\n",
              "      fill: #174EA6;\n",
              "    }\n",
              "\n",
              "    [theme=dark] .colab-df-convert {\n",
              "      background-color: #3B4455;\n",
              "      fill: #D2E3FC;\n",
              "    }\n",
              "\n",
              "    [theme=dark] .colab-df-convert:hover {\n",
              "      background-color: #434B5C;\n",
              "      box-shadow: 0px 1px 3px 1px rgba(0, 0, 0, 0.15);\n",
              "      filter: drop-shadow(0px 1px 2px rgba(0, 0, 0, 0.3));\n",
              "      fill: #FFFFFF;\n",
              "    }\n",
              "  </style>\n",
              "\n",
              "      <script>\n",
              "        const buttonEl =\n",
              "          document.querySelector('#df-a95b9061-af05-4b18-b338-dfc7bef903c1 button.colab-df-convert');\n",
              "        buttonEl.style.display =\n",
              "          google.colab.kernel.accessAllowed ? 'block' : 'none';\n",
              "\n",
              "        async function convertToInteractive(key) {\n",
              "          const element = document.querySelector('#df-a95b9061-af05-4b18-b338-dfc7bef903c1');\n",
              "          const dataTable =\n",
              "            await google.colab.kernel.invokeFunction('convertToInteractive',\n",
              "                                                     [key], {});\n",
              "          if (!dataTable) return;\n",
              "\n",
              "          const docLinkHtml = 'Like what you see? Visit the ' +\n",
              "            '<a target=\"_blank\" href=https://colab.research.google.com/notebooks/data_table.ipynb>data table notebook</a>'\n",
              "            + ' to learn more about interactive tables.';\n",
              "          element.innerHTML = '';\n",
              "          dataTable['output_type'] = 'display_data';\n",
              "          await google.colab.output.renderOutput(dataTable, element);\n",
              "          const docLink = document.createElement('div');\n",
              "          docLink.innerHTML = docLinkHtml;\n",
              "          element.appendChild(docLink);\n",
              "        }\n",
              "      </script>\n",
              "    </div>\n",
              "  </div>\n",
              "  "
            ]
          },
          "metadata": {},
          "execution_count": 43
        }
      ],
      "source": [
        "df['D'] = abs(df.frequenciaAcumuladaTeoricaNo - df.frequenciaAcumuladaObservadaNormalizada)\n",
        "df"
      ]
    },
    {
      "cell_type": "markdown",
      "id": "3c12b28b-82f0-41f0-9d81-045364646e84",
      "metadata": {
        "id": "3c12b28b-82f0-41f0-9d81-045364646e84"
      },
      "source": [
        ">>>  ###  Destaque o valor do D-crítico calculado na tabela do método KS;\n"
      ]
    },
    {
      "cell_type": "code",
      "execution_count": null,
      "id": "a975e736-12a7-488e-89df-ea874e39a55c",
      "metadata": {
        "tags": [],
        "colab": {
          "base_uri": "https://localhost:8080/"
        },
        "id": "a975e736-12a7-488e-89df-ea874e39a55c",
        "outputId": "d2d4c6c7-caee-4d5a-96cb-6c14b44e6220"
      },
      "outputs": [
        {
          "output_type": "execute_result",
          "data": {
            "text/plain": [
              "0.09616652224137047"
            ]
          },
          "metadata": {},
          "execution_count": 53
        }
      ],
      "source": [
        "D_critico = ((1.36) / (len(dados_sem_out_ext) ** 0.5))\n",
        "D_critico"
      ]
    },
    {
      "cell_type": "markdown",
      "source": [
        ">>>  ### Destaque a maior diferença encontrada entre a frequência observada acumulada normalizada e a frequência teórica acumulada normalizada."
      ],
      "metadata": {
        "id": "8H-17MzQuvNZ"
      },
      "id": "8H-17MzQuvNZ"
    },
    {
      "cell_type": "code",
      "execution_count": null,
      "id": "a783f0c6-4408-46da-b044-ab1d3715ed2e",
      "metadata": {
        "tags": [],
        "colab": {
          "base_uri": "https://localhost:8080/"
        },
        "id": "a783f0c6-4408-46da-b044-ab1d3715ed2e",
        "outputId": "3ce7e5c2-f788-4466-9836-4c37faa9b22c"
      },
      "outputs": [
        {
          "output_type": "execute_result",
          "data": {
            "text/plain": [
              "0.037595294870595874"
            ]
          },
          "metadata": {},
          "execution_count": 51
        }
      ],
      "source": [
        "max(df.D)\n"
      ]
    },
    {
      "cell_type": "markdown",
      "source": [
        ">>> ### Informe a função de probabilidade descrita por estes dados"
      ],
      "metadata": {
        "id": "iNRr90yp9veh"
      },
      "id": "iNRr90yp9veh"
    },
    {
      "cell_type": "code",
      "execution_count": null,
      "id": "14c09372-4821-4346-b0cb-ea089130b2e1",
      "metadata": {
        "id": "14c09372-4821-4346-b0cb-ea089130b2e1",
        "colab": {
          "base_uri": "https://localhost:8080/"
        },
        "outputId": "e0d7983e-9088-469d-c4ef-4685ec3774b1"
      },
      "outputs": [
        {
          "output_type": "stream",
          "name": "stdout",
          "text": [
            "MÉTODO KS GARANTE A DISTRIBUIÇÃO NORMAL\n"
          ]
        }
      ],
      "source": [
        "if D_critico > max(df.D):\n",
        "  print(\"MÉTODO KS GARANTE A DISTRIBUIÇÃO NORMAL\")\n",
        "else:\n",
        "  print(\"MÉTODO KS NÃO GARANTE A DISTRIBUIÇÃO NORMAL\")"
      ]
    },
    {
      "cell_type": "markdown",
      "source": [
        "2) Realize a modelagem ACD integrada da seguinte descrição de um sistema. Modele levando\n",
        "em conta apenas o que está descrito. Em seguida, simule utilizando o método das 3 fases com\n",
        "os dados informados na descrição. (3,5)\n",
        "\n",
        " > Uma biblioteca dispõe de 2 funcionários para atendimento ao público. O tipo de\n",
        "  atendimento que esses funcionários realizam é ouvir o pedido do usuário, buscar\n",
        "  um livro na prateleira, e trazê-lo ao solicitante – essas operações são tratadas como\n",
        "  uma só. Em uma determinada tarde, 6 usuários chegaram a biblioteca nos tempos\n",
        "  3, 5, 7, 7, 9 e 11 respectivamente. Os tempos totais de serviço (conversa + busca + retorno do livro) que cada um desses clientes demandou foi de 5, 2, 2, 4, 2 e 3\n",
        "  respectivamente."
      ],
      "metadata": {
        "id": "F2Ewzd-eO8I2"
      },
      "id": "F2Ewzd-eO8I2"
    },
    {
      "cell_type": "markdown",
      "source": [
        "![SimDisqQ2P1.png](data:image/png;base64,iVBORw0KGgoAAAANSUhEUgAAAcYAAAGqCAYAAACRVOQIAAAeC3RFWHRteGZpbGUAJTNDbXhmaWxlJTIwaG9zdCUzRCUyMmFwcC5kaWFncmFtcy5uZXQlMjIlMjBtb2RpZmllZCUzRCUyMjIwMjMtMDUtMTBUMjMlM0ExMSUzQTQxLjUyNFolMjIlMjBhZ2VudCUzRCUyMk1vemlsbGElMkY1LjAlMjAoV2luZG93cyUyME5UJTIwMTAuMCUzQiUyMFdpbjY0JTNCJTIweDY0JTNCJTIwcnYlM0ExMDkuMCklMjBHZWNrbyUyRjIwMTAwMTAxJTIwRmlyZWZveCUyRjExMy4wJTIyJTIwZXRhZyUzRCUyMjlSTUdrZ3I5UnFSck1zeGpQM1RvJTIyJTIwdmVyc2lvbiUzRCUyMjIxLjIuOSUyMiUzRSUwQSUyMCUyMCUzQ2RpYWdyYW0lMjBuYW1lJTNEJTIyUCVDMyVBMWdpbmEtMSUyMiUyMGlkJTNEJTIyWUNNSGYtenBwQzVmRDRUSUc3TWQlMjIlM0UlMEElMjAlMjAlMjAlMjAlM0NteEdyYXBoTW9kZWwlMjBkeCUzRCUyMjE0MzQlMjIlMjBkeSUzRCUyMjExODIlMjIlMjBncmlkJTNEJTIyMCUyMiUyMGdyaWRTaXplJTNEJTIyMTAlMjIlMjBndWlkZXMlM0QlMjIxJTIyJTIwdG9vbHRpcHMlM0QlMjIxJTIyJTIwY29ubmVjdCUzRCUyMjElMjIlMjBhcnJvd3MlM0QlMjIxJTIyJTIwZm9sZCUzRCUyMjElMjIlMjBwYWdlJTNEJTIyMCUyMiUyMHBhZ2VTY2FsZSUzRCUyMjElMjIlMjBwYWdlV2lkdGglM0QlMjI4MjclMjIlMjBwYWdlSGVpZ2h0JTNEJTIyMTE2OSUyMiUyMG1hdGglM0QlMjIwJTIyJTIwc2hhZG93JTNEJTIyMCUyMiUzRSUwQSUyMCUyMCUyMCUyMCUyMCUyMCUzQ3Jvb3QlM0UlMEElMjAlMjAlMjAlMjAlMjAlMjAlMjAlMjAlM0NteENlbGwlMjBpZCUzRCUyMjAlMjIlMjAlMkYlM0UlMEElMjAlMjAlMjAlMjAlMjAlMjAlMjAlMjAlM0NteENlbGwlMjBpZCUzRCUyMjElMjIlMjBwYXJlbnQlM0QlMjIwJTIyJTIwJTJGJTNFJTBBJTIwJTIwJTIwJTIwJTIwJTIwJTIwJTIwJTNDbXhDZWxsJTIwaWQlM0QlMjJSS3NDOW1uUmZCY2E3YmxnYkpJWC05JTIyJTIwc3R5bGUlM0QlMjJlZGdlU3R5bGUlM0Rub25lJTNCY3VydmVkJTNEMSUzQnJvdW5kZWQlM0QwJTNCb3J0aG9nb25hbExvb3AlM0QxJTNCamV0dHlTaXplJTNEYXV0byUzQmh0bWwlM0QxJTNCZXhpdFglM0QxJTNCZXhpdFklM0QwLjUlM0JleGl0RHglM0QwJTNCZXhpdER5JTNEMCUzQmVudHJ5WCUzRDAlM0JlbnRyeVklM0QwLjUlM0JlbnRyeUR4JTNEMCUzQmVudHJ5RHklM0QwJTNCZm9udFNpemUlM0QxMiUzQnN0YXJ0U2l6ZSUzRDglM0JlbmRTaXplJTNEOCUzQnN0cm9rZVdpZHRoJTNEMyUzQiUyMiUyMHBhcmVudCUzRCUyMjElMjIlMjBzb3VyY2UlM0QlMjJSS3NDOW1uUmZCY2E3YmxnYkpJWC0xJTIyJTIwdGFyZ2V0JTNEJTIyUktzQzltblJmQmNhN2JsZ2JKSVgtOCUyMiUyMGVkZ2UlM0QlMjIxJTIyJTNFJTBBJTIwJTIwJTIwJTIwJTIwJTIwJTIwJTIwJTIwJTIwJTNDbXhHZW9tZXRyeSUyMHJlbGF0aXZlJTNEJTIyMSUyMiUyMGFzJTNEJTIyZ2VvbWV0cnklMjIlMjAlMkYlM0UlMEElMjAlMjAlMjAlMjAlMjAlMjAlMjAlMjAlM0MlMkZteENlbGwlM0UlMEElMjAlMjAlMjAlMjAlMjAlMjAlMjAlMjAlM0NteENlbGwlMjBpZCUzRCUyMlJLc0M5bW5SZkJjYTdibGdiSklYLTElMjIlMjB2YWx1ZSUzRCUyMkNvbnZlcnNhJTJDJTIwYnVzY2ElMjBlJTIwcmV0b3JubyUyMGRlJTIwbGl2cm8lMjIlMjBzdHlsZSUzRCUyMnJvdW5kZWQlM0QwJTNCd2hpdGVTcGFjZSUzRHdyYXAlM0JodG1sJTNEMSUzQmZvbnRTaXplJTNEMTYlM0IlMjIlMjBwYXJlbnQlM0QlMjIxJTIyJTIwdmVydGV4JTNEJTIyMSUyMiUzRSUwQSUyMCUyMCUyMCUyMCUyMCUyMCUyMCUyMCUyMCUyMCUzQ214R2VvbWV0cnklMjB4JTNEJTIyMTA1JTIyJTIweSUzRCUyMjE1MSUyMiUyMHdpZHRoJTNEJTIyMTIwJTIyJTIwaGVpZ2h0JTNEJTIyNjAlMjIlMjBhcyUzRCUyMmdlb21ldHJ5JTIyJTIwJTJGJTNFJTBBJTIwJTIwJTIwJTIwJTIwJTIwJTIwJTIwJTNDJTJGbXhDZWxsJTNFJTBBJTIwJTIwJTIwJTIwJTIwJTIwJTIwJTIwJTNDbXhDZWxsJTIwaWQlM0QlMjJSS3NDOW1uUmZCY2E3YmxnYkpJWC03JTIyJTIwc3R5bGUlM0QlMjJlZGdlU3R5bGUlM0Rub25lJTNCY3VydmVkJTNEMSUzQnJvdW5kZWQlM0QwJTNCb3J0aG9nb25hbExvb3AlM0QxJTNCamV0dHlTaXplJTNEYXV0byUzQmh0bWwlM0QxJTNCZXhpdFglM0QwLjUlM0JleGl0WSUzRDElM0JleGl0RHglM0QwJTNCZXhpdER5JTNEMCUzQmZvbnRTaXplJTNEMTIlM0JzdGFydFNpemUlM0Q4JTNCZW5kU2l6ZSUzRDglM0JzdHJva2VXaWR0aCUzRDMlM0IlMjIlMjBwYXJlbnQlM0QlMjIxJTIyJTIwc291cmNlJTNEJTIyUktzQzltblJmQmNhN2JsZ2JKSVgtMyUyMiUyMHRhcmdldCUzRCUyMlJLc0M5bW5SZkJjYTdibGdiSklYLTElMjIlMjBlZGdlJTNEJTIyMSUyMiUzRSUwQSUyMCUyMCUyMCUyMCUyMCUyMCUyMCUyMCUyMCUyMCUzQ214R2VvbWV0cnklMjByZWxhdGl2ZSUzRCUyMjElMjIlMjBhcyUzRCUyMmdlb21ldHJ5JTIyJTIwJTJGJTNFJTBBJTIwJTIwJTIwJTIwJTIwJTIwJTIwJTIwJTNDJTJGbXhDZWxsJTNFJTBBJTIwJTIwJTIwJTIwJTIwJTIwJTIwJTIwJTNDbXhDZWxsJTIwaWQlM0QlMjJSS3NDOW1uUmZCY2E3YmxnYkpJWC0zJTIyJTIwdmFsdWUlM0QlMjJFc3BlcmElMjBhdGVuZGltZW50byUyMiUyMHN0eWxlJTNEJTIyZWxsaXBzZSUzQndoaXRlU3BhY2UlM0R3cmFwJTNCaHRtbCUzRDElM0Jmb250U2l6ZSUzRDE2JTNCJTIyJTIwcGFyZW50JTNEJTIyMSUyMiUyMHZlcnRleCUzRCUyMjElMjIlM0UlMEElMjAlMjAlMjAlMjAlMjAlMjAlMjAlMjAlMjAlMjAlM0NteEdlb21ldHJ5JTIweCUzRCUyMjEwNSUyMiUyMHklM0QlMjItMTElMjIlMjB3aWR0aCUzRCUyMjEyMCUyMiUyMGhlaWdodCUzRCUyMjgwJTIyJTIwYXMlM0QlMjJnZW9tZXRyeSUyMiUyMCUyRiUzRSUwQSUyMCUyMCUyMCUyMCUyMCUyMCUyMCUyMCUzQyUyRm14Q2VsbCUzRSUwQSUyMCUyMCUyMCUyMCUyMCUyMCUyMCUyMCUzQ214Q2VsbCUyMGlkJTNEJTIyUktzQzltblJmQmNhN2JsZ2JKSVgtNCUyMiUyMHZhbHVlJTNEJTIyTGl2cmUlMjIlMjBzdHlsZSUzRCUyMmVsbGlwc2UlM0J3aGl0ZVNwYWNlJTNEd3JhcCUzQmh0bWwlM0QxJTNCZm9udFNpemUlM0QxNiUzQiUyMiUyMHBhcmVudCUzRCUyMjElMjIlMjB2ZXJ0ZXglM0QlMjIxJTIyJTNFJTBBJTIwJTIwJTIwJTIwJTIwJTIwJTIwJTIwJTIwJTIwJTNDbXhHZW9tZXRyeSUyMHglM0QlMjIxMDUlMjIlMjB5JTNEJTIyMzA0JTIyJTIwd2lkdGglM0QlMjIxMjAlMjIlMjBoZWlnaHQlM0QlMjI4MCUyMiUyMGFzJTNEJTIyZ2VvbWV0cnklMjIlMjAlMkYlM0UlMEElMjAlMjAlMjAlMjAlMjAlMjAlMjAlMjAlM0MlMkZteENlbGwlM0UlMEElMjAlMjAlMjAlMjAlMjAlMjAlMjAlMjAlM0NteENlbGwlMjBpZCUzRCUyMlJLc0M5bW5SZkJjYTdibGdiSklYLTUlMjIlMjB2YWx1ZSUzRCUyMiUyMiUyMHN0eWxlJTNEJTIyY3VydmVkJTNEMSUzQmVuZEFycm93JTNEY2xhc3NpYyUzQmh0bWwlM0QxJTNCcm91bmRlZCUzRDAlM0Jmb250U2l6ZSUzRDEyJTNCc3RhcnRTaXplJTNEOCUzQmVuZFNpemUlM0Q4JTNCZXhpdFglM0QwLjI1JTNCZXhpdFklM0QxJTNCZXhpdER4JTNEMCUzQmV4aXREeSUzRDAlM0JlbnRyeVglM0QwJTNCZW50cnlZJTNEMCUzQmVudHJ5RHglM0QwJTNCZW50cnlEeSUzRDAlM0JzdHJva2VXaWR0aCUzRDMlM0IlMjIlMjBwYXJlbnQlM0QlMjIxJTIyJTIwc291cmNlJTNEJTIyUktzQzltblJmQmNhN2JsZ2JKSVgtMSUyMiUyMHRhcmdldCUzRCUyMlJLc0M5bW5SZkJjYTdibGdiSklYLTQlMjIlMjBlZGdlJTNEJTIyMSUyMiUzRSUwQSUyMCUyMCUyMCUyMCUyMCUyMCUyMCUyMCUyMCUyMCUzQ214R2VvbWV0cnklMjB3aWR0aCUzRCUyMjUwJTIyJTIwaGVpZ2h0JTNEJTIyNTAlMjIlMjByZWxhdGl2ZSUzRCUyMjElMjIlMjBhcyUzRCUyMmdlb21ldHJ5JTIyJTNFJTBBJTIwJTIwJTIwJTIwJTIwJTIwJTIwJTIwJTIwJTIwJTIwJTIwJTNDbXhQb2ludCUyMHglM0QlMjIxNzUlMjIlMjB5JTNEJTIyMjI1JTIyJTIwYXMlM0QlMjJzb3VyY2VQb2ludCUyMiUyMCUyRiUzRSUwQSUyMCUyMCUyMCUyMCUyMCUyMCUyMCUyMCUyMCUyMCUyMCUyMCUzQ214UG9pbnQlMjB4JTNEJTIyMjI1JTIyJTIweSUzRCUyMjE3NSUyMiUyMGFzJTNEJTIydGFyZ2V0UG9pbnQlMjIlMjAlMkYlM0UlMEElMjAlMjAlMjAlMjAlMjAlMjAlMjAlMjAlMjAlMjAlMjAlMjAlM0NBcnJheSUyMGFzJTNEJTIycG9pbnRzJTIyJTNFJTBBJTIwJTIwJTIwJTIwJTIwJTIwJTIwJTIwJTIwJTIwJTIwJTIwJTIwJTIwJTNDbXhQb2ludCUyMHglM0QlMjI5OCUyMiUyMHklM0QlMjIyMzclMjIlMjAlMkYlM0UlMEElMjAlMjAlMjAlMjAlMjAlMjAlMjAlMjAlMjAlMjAlMjAlMjAlMjAlMjAlM0NteFBvaW50JTIweCUzRCUyMjEwMiUyMiUyMHklM0QlMjIyODElMjIlMjAlMkYlM0UlMEElMjAlMjAlMjAlMjAlMjAlMjAlMjAlMjAlMjAlMjAlMjAlMjAlM0MlMkZBcnJheSUzRSUwQSUyMCUyMCUyMCUyMCUyMCUyMCUyMCUyMCUyMCUyMCUzQyUyRm14R2VvbWV0cnklM0UlMEElMjAlMjAlMjAlMjAlMjAlMjAlMjAlMjAlM0MlMkZteENlbGwlM0UlMEElMjAlMjAlMjAlMjAlMjAlMjAlMjAlMjAlM0NteENlbGwlMjBpZCUzRCUyMlJLc0M5bW5SZkJjYTdibGdiSklYLTYlMjIlMjB2YWx1ZSUzRCUyMiUyMiUyMHN0eWxlJTNEJTIyY3VydmVkJTNEMSUzQmVuZEFycm93JTNEY2xhc3NpYyUzQmh0bWwlM0QxJTNCcm91bmRlZCUzRDAlM0Jmb250U2l6ZSUzRDEyJTNCc3RhcnRTaXplJTNEOCUzQmVuZFNpemUlM0Q4JTNCZXhpdFglM0QxJTNCZXhpdFklM0QwJTNCZXhpdER4JTNEMCUzQmV4aXREeSUzRDAlM0JlbnRyeVglM0QwLjc1JTNCZW50cnlZJTNEMSUzQmVudHJ5RHglM0QwJTNCZW50cnlEeSUzRDAlM0JzdHJva2VXaWR0aCUzRDMlM0IlMjIlMjBwYXJlbnQlM0QlMjIxJTIyJTIwc291cmNlJTNEJTIyUktzQzltblJmQmNhN2JsZ2JKSVgtNCUyMiUyMHRhcmdldCUzRCUyMlJLc0M5bW5SZkJjYTdibGdiSklYLTElMjIlMjBlZGdlJTNEJTIyMSUyMiUzRSUwQSUyMCUyMCUyMCUyMCUyMCUyMCUyMCUyMCUyMCUyMCUzQ214R2VvbWV0cnklMjB3aWR0aCUzRCUyMjUwJTIyJTIwaGVpZ2h0JTNEJTIyNTAlMjIlMjByZWxhdGl2ZSUzRCUyMjElMjIlMjBhcyUzRCUyMmdlb21ldHJ5JTIyJTNFJTBBJTIwJTIwJTIwJTIwJTIwJTIwJTIwJTIwJTIwJTIwJTIwJTIwJTNDbXhQb2ludCUyMHglM0QlMjIxMDQlMjIlMjB5JTNEJTIyMzI2JTIyJTIwYXMlM0QlMjJzb3VyY2VQb2ludCUyMiUyMCUyRiUzRSUwQSUyMCUyMCUyMCUyMCUyMCUyMCUyMCUyMCUyMCUyMCUyMCUyMCUzQ214UG9pbnQlMjB4JTNEJTIyMTE2JTIyJTIweSUzRCUyMjI0NyUyMiUyMGFzJTNEJTIydGFyZ2V0UG9pbnQlMjIlMjAlMkYlM0UlMEElMjAlMjAlMjAlMjAlMjAlMjAlMjAlMjAlMjAlMjAlMjAlMjAlM0NBcnJheSUyMGFzJTNEJTIycG9pbnRzJTIyJTNFJTBBJTIwJTIwJTIwJTIwJTIwJTIwJTIwJTIwJTIwJTIwJTIwJTIwJTIwJTIwJTNDbXhQb2ludCUyMHglM0QlMjIyNDklMjIlMjB5JTNEJTIyMjU1JTIyJTIwJTJGJTNFJTBBJTIwJTIwJTIwJTIwJTIwJTIwJTIwJTIwJTIwJTIwJTIwJTIwJTNDJTJGQXJyYXklM0UlMEElMjAlMjAlMjAlMjAlMjAlMjAlMjAlMjAlMjAlMjAlM0MlMkZteEdlb21ldHJ5JTNFJTBBJTIwJTIwJTIwJTIwJTIwJTIwJTIwJTIwJTNDJTJGbXhDZWxsJTNFJTBBJTIwJTIwJTIwJTIwJTIwJTIwJTIwJTIwJTNDbXhDZWxsJTIwaWQlM0QlMjJSS3NDOW1uUmZCY2E3YmxnYkpJWC04JTIyJTIwdmFsdWUlM0QlMjJTYWklMjBkbyUyMHNpc3RlbWElMjIlMjBzdHlsZSUzRCUyMmVsbGlwc2UlM0J3aGl0ZVNwYWNlJTNEd3JhcCUzQmh0bWwlM0QxJTNCZm9udFNpemUlM0QxNiUzQiUyMiUyMHBhcmVudCUzRCUyMjElMjIlMjB2ZXJ0ZXglM0QlMjIxJTIyJTNFJTBBJTIwJTIwJTIwJTIwJTIwJTIwJTIwJTIwJTIwJTIwJTNDbXhHZW9tZXRyeSUyMHglM0QlMjIzNDElMjIlMjB5JTNEJTIyMTQxJTIyJTIwd2lkdGglM0QlMjIxMjAlMjIlMjBoZWlnaHQlM0QlMjI4MCUyMiUyMGFzJTNEJTIyZ2VvbWV0cnklMjIlMjAlMkYlM0UlMEElMjAlMjAlMjAlMjAlMjAlMjAlMjAlMjAlM0MlMkZteENlbGwlM0UlMEElMjAlMjAlMjAlMjAlMjAlMjAlMjAlMjAlM0NteENlbGwlMjBpZCUzRCUyMlJLc0M5bW5SZkJjYTdibGdiSklYLTExJTIyJTIwdmFsdWUlM0QlMjJQb250byUyMGRlJTIwYXRlbmRpbWVudG8lMjIlMjBzdHlsZSUzRCUyMnRleHQlM0JodG1sJTNEMSUzQnN0cm9rZUNvbG9yJTNEbm9uZSUzQmZpbGxDb2xvciUzRG5vbmUlM0JhbGlnbiUzRGNlbnRlciUzQnZlcnRpY2FsQWxpZ24lM0RtaWRkbGUlM0J3aGl0ZVNwYWNlJTNEd3JhcCUzQnJvdW5kZWQlM0QwJTNCZm9udFNpemUlM0QxNiUzQiUyMiUyMHBhcmVudCUzRCUyMjElMjIlMjB2ZXJ0ZXglM0QlMjIxJTIyJTNFJTBBJTIwJTIwJTIwJTIwJTIwJTIwJTIwJTIwJTIwJTIwJTNDbXhHZW9tZXRyeSUyMHglM0QlMjIyMiUyMiUyMHklM0QlMjIxNjglMjIlMjB3aWR0aCUzRCUyMjYwJTIyJTIwaGVpZ2h0JTNEJTIyMzAlMjIlMjBhcyUzRCUyMmdlb21ldHJ5JTIyJTIwJTJGJTNFJTBBJTIwJTIwJTIwJTIwJTIwJTIwJTIwJTIwJTNDJTJGbXhDZWxsJTNFJTBBJTIwJTIwJTIwJTIwJTIwJTIwJTIwJTIwJTNDbXhDZWxsJTIwaWQlM0QlMjJVc09jOXdSVXJ3MTlMbmc1LXduOC0yJTIyJTIwdmFsdWUlM0QlMjJBdGVuZGVudGUlMjIlMjBzdHlsZSUzRCUyMnRleHQlM0JodG1sJTNEMSUzQnN0cm9rZUNvbG9yJTNEbm9uZSUzQmZpbGxDb2xvciUzRG5vbmUlM0JhbGlnbiUzRGNlbnRlciUzQnZlcnRpY2FsQWxpZ24lM0RtaWRkbGUlM0J3aGl0ZVNwYWNlJTNEd3JhcCUzQnJvdW5kZWQlM0QwJTNCZm9udFNpemUlM0QxNiUzQiUyMiUyMHZlcnRleCUzRCUyMjElMjIlMjBwYXJlbnQlM0QlMjIxJTIyJTNFJTBBJTIwJTIwJTIwJTIwJTIwJTIwJTIwJTIwJTIwJTIwJTNDbXhHZW9tZXRyeSUyMHglM0QlMjIyMDMlMjIlMjB5JTNEJTIyMzg0JTIyJTIwd2lkdGglM0QlMjI2MCUyMiUyMGhlaWdodCUzRCUyMjMwJTIyJTIwYXMlM0QlMjJnZW9tZXRyeSUyMiUyMCUyRiUzRSUwQSUyMCUyMCUyMCUyMCUyMCUyMCUyMCUyMCUzQyUyRm14Q2VsbCUzRSUwQSUyMCUyMCUyMCUyMCUyMCUyMCUyMCUyMCUzQ214Q2VsbCUyMGlkJTNEJTIyVXNPYzl3UlVydzE5TG5nNS13bjgtMyUyMiUyMHZhbHVlJTNEJTIyQ2xpZW50ZSUyMiUyMHN0eWxlJTNEJTIydGV4dCUzQmh0bWwlM0QxJTNCc3Ryb2tlQ29sb3IlM0Rub25lJTNCZmlsbENvbG9yJTNEbm9uZSUzQmFsaWduJTNEY2VudGVyJTNCdmVydGljYWxBbGlnbiUzRG1pZGRsZSUzQndoaXRlU3BhY2UlM0R3cmFwJTNCcm91bmRlZCUzRDAlM0Jmb250U2l6ZSUzRDE2JTNCJTIyJTIwdmVydGV4JTNEJTIyMSUyMiUyMHBhcmVudCUzRCUyMjElMjIlM0UlMEElMjAlMjAlMjAlMjAlMjAlMjAlMjAlMjAlMjAlMjAlM0NteEdlb21ldHJ5JTIweCUzRCUyMjE5NiUyMiUyMHklM0QlMjI2NCUyMiUyMHdpZHRoJTNEJTIyNjAlMjIlMjBoZWlnaHQlM0QlMjIzMCUyMiUyMGFzJTNEJTIyZ2VvbWV0cnklMjIlMjAlMkYlM0UlMEElMjAlMjAlMjAlMjAlMjAlMjAlMjAlMjAlM0MlMkZteENlbGwlM0UlMEElMjAlMjAlMjAlMjAlMjAlMjAlM0MlMkZyb290JTNFJTBBJTIwJTIwJTIwJTIwJTNDJTJGbXhHcmFwaE1vZGVsJTNFJTBBJTIwJTIwJTNDJTJGZGlhZ3JhbSUzRSUwQSUzQyUyRm14ZmlsZSUzRSUwQSYxEw8AACAASURBVHhe7Z0J2FVVuccXlAIJ3q7IIAIJ2GU0BERIAZEYjEQBQ4Yg6AISw6XgGohyQwxQyKSUIQYNgsv0FWCYMVUqah8i4IRgMhijgNgtQEAzrv+l67S+xT7n7LPPHtbe57+e5zznG/Ze612/d539P2t6V6nznyTBRAIeCZw+fVrs2rVLHD58OPU6cuSI/Pno0aPizJkz8nX27NkS7+XKlRNly5YV+jt+rlKliqhWrZp8XXHFFamf69WrJy655BKPVvI2EiABEnBPoBSF0T2sQr/y1VdfFTt27JCvN954Q74fOnRINGjQ4AIhg7BVrVr1AuFTYqiLpf7zu+++6yiyb775prjyyitFw4YNRaNGjeQ7Xo0bNy50t7D+JEACPhOgMPoMNEnZbdmyRWzatEk8//zz8r1ixYpSiJQo4R09ubDSW2+9VUKUIdQnTpwQrVu3lq9WrVqJ5s2bh2UOyyEBEkgoAQpjQh3rtVpr1qwRK1asEHivWbNmSnAgOjVq1PCabWD3HThwQAq3Eu/9+/eLLl26iDvvvFO+M5EACZBArgQojLkSS+D1xcXFYvny5VIQ69SpI3r27Cl69OghKleuHLvaHjt2TBQVFcn67NmzRwok6tOyZcvY1YUGkwAJREOAwhgN98hLhWhAPPD66KOPUgJSv379yG3zy4CdO3emBP+iiy6SAokXxJ+JBEiABNIRoDAWUNs4deqUWLp0qRQLzM9BJNCjatOmTeIpPPfcc7JHjLpjnhR17927tyhfvnzi684KkgAJ5EaAwpgbr1heDUF85JFH5KtTp05SFLp37x7Luvhh9MqVK6VArlu3TowePVq+KJB+kGUeJJAMAhTGZPjRsRYnT55MCSLmDCEA2FrB9CkBbAHBlwXMSSqBrFChAvGQAAkUOAEKY0IbAB74999/v+wdjho1ioKYwc8QyOnTp8teJJhBJJlIgAQKlwCFMWG+37hxoxg/fryoVKmSmDRpEjfA5+BfzLuC3fHjxyW79u3b53A3LyUBEkgKAQpjQjyJje7jxo2T82Z4qPfr1y8hNQu/GosWLZICifnYBx98UAY2YCIBEigcAhTGBPj66aefFkOHDpUrTCGKZcqUSUCtoq3CuXPnpDhiJevs2bNF586dozWIpZMACYRGgMIYGupgCpowYYKYO3eufHh37do1mEIKONfVq1fLLx133XWXmDhxYgGTYNVJoHAIUBhj6uuDBw+KQYMGyRMqIIo4iYIpGAI4LQTiiBNC5s+fL6pXrx5MQcyVBEjACgIURivckJsR27dvl6tNBwwYIO69997cbubVnglMmTJFLFiwQA6vXnvttZ7z4Y0kQAJ2E6Aw2u2fC6zbsGGDnEucOnWqHN5jCpcAhq3Hjh0rxbFDhw7hFs7SSIAEQiFAYQwFsz+FLFmyRPTv318+lLt16+ZPpswlZwKrVq2SX04WLlwo+vTpk/P9vIEESMBuAhRGu/2Tsg4PY4giVqDiCCimaAngmCusVIU48ktKtL5g6STgNwEKo99EA8jvmWeekZvNIYodO3YMoARm6YXA+vXrpTgiqELbtm29ZMF7SIAELCRAYbTQKbpJiMYCUZw5c6YcvmOyiwCGtYcPHy7FEad2MJEACcSfAIXRYh9ik3nTpk3FyJEjxZAhQyy2tLBNmzNnjnj00UfFtm3bGFyhsJsCa58QAhRGix2p9inOmDHDYitpGgiMGDEitc+RREiABOJNgMJoqf8ef/xxMWvWLLF161ZLLaRZJoFmzZqJYcOGiYEDBxIOCZBAjAlQGC103s6dO0WTJk0EFt20bNkyVAv37t0r6tSpk7HMTZs2cWWsA6Hi4mK5CAcBGOrXrx+q31gYCZCAfwQojP6x9C2nvn37ygfrfffd51uebjNSwrh06VLRq1cvt7fxus8ITJ48WeCLzeLFi8mEBEggpgQojJY57tlnn5Wh3vbt2xeJZRTG/LFfddVVMnQct3Dkz5I5kEAUBCiMUVDPUCb2Kfbo0UMMHjw4EstyFcarr75a7NmzJ2Wr3tPEfBvyq127tgx0joRh2t27d5eoGzbLt27dOvU3BOzG/KpKt9xyi2jXrp0MxYaEcHhjxoyReZvDvjYM886bN08UFRUJ7HNkIgESiB8BCqNFPnvyyScFAlVv3rw5MqtyEUYIFtLatWvl+7Jly0Tv3r2lUEIMIYwQRBz4q67BPRBGJY5KFHVBhdjiC4ISR9yDA5h10XOyc9q0aVI8VfmRQfyk4BYtWsgA77fffnuUZrBsEiABDwQojB6gBXULNvBjM3+UwcGzLb7RRQ4CBlvRe9OT6iUqYTx//nzq36agmeKKC5VYKoEzxRTXIG/0yPTep5PIBuWrbPki2Dg2/SMAABMJkEC8CFAYLfEXzvyrVauWeP/998UXvvCFyKzKpceohM9peFSJF/JTvUVVKV1QS5UqJZwW+uh/dxJPHZDqqaq/2bBw6IMPPhCXXXaZnCvmWZmRNWcWTAKeCFAYPWHz/6aHH35Y7Nq1Sx6EG2XKRRhhpylKeo9SzTE6CSOGSu++++6MW0PUXKKTMJo9WwyzImGu0gZhhC0I0FCvXj1ZTyYSIIH4EKAwWuKr6667TkAco17JmKswOvXc1OKZTMKIIdhvfvObUhizCZmTMGYags2WX1guxz5UiOLLL78cVpEshwRIwAcCFEYfIOabxalTp+SwG2KjYggxypSPMMJuXbAyzTGqhTTmQhvk4WYe0uk+1Xu1RRgxt1qmTBk5PF6+fPko3cqySYAEciBAYcwBVlCXbtiwQUyaNElgD2PUKRdhhIjrWyvUvWoIVAmjfg0EDS9zJasuZuZiG6feoSm6+tCqLcIIX950001i/PjxokOHDlG7luWTAAm4JEBhdAkqyMseeOABgcUaDz30UJDFuMo726pUZKKEDz+bPVz9f2rlKIQQ2y2Q9DlIZZC5j9G8Jt3iG3MPJVaxYu5SF15XlQ7wonvuuUcupvrhD38YYCnMmgRIwE8CFEY/aXrM67bbbhPXXHONQDixJCWnLRVJqp+buiCs3+uvvy5+85vfuLmc15AACVhAgMJogRNuvPFGgc3peE9SojAK8cILL8h9nnhnIgESiAcBCqMFfqpbt65A1Bss7U9SojAKuQUH0W/eeuutJLmWdSGBRBOgMFrg3ssvv1yeyFCpUiULrKEJfhJ477335BcevDORAAnEgwCF0QI/YQHLxx9/LEqXLm2BNTTBTwLYsqFiuPqZL/MiARIIjgCFMTi2rnNmj9E1qthdePz4cXm2JnuMsXMdDS5gAhRGC5yf1DlGC9BGbgLnGCN3AQ0ggZwJUBhzRub/DUldleo/qfjlyFWp8fMZLSYBCqMFbSCsfYzYvI94rPohwEFVX82rqSOnnEK4BVV2tnwROg6pV69e2S7N+//cx5g3QmZAAqEToDCGjvzCAsOKfBOmOJnCaAFmaUIuIe/8sJmRb/ygyDxIIFwCFMZweTuWFlasVApj+MLIWKkWfMBoAgnkSIDCmCOwIC7363QNFVhb2ajHHDXjiqohTjNOqR7wG/moo6PatWsnxo4dm6q+ul/9wdySgJipuN5pKBXX4oR7BE7v3bt3Kk/EOv3Vr36VKsfpAGSzjuqUDr03iL/hXEaVVPxWMw6szsc8V1KP+erV5zxdwys53kcC0RKgMEbLP1V6vucxOkWZMU+/MHuMShT10yjMa9yckGEOm+oik04YIZpOwq0Ls2m/eaKGsl+Joy58ENnatWunDlI2r9HrrOzXRdYs20sz4XmMXqjxHhKIngCFMXofSAuwKAZL++fPn5+zRenmzczjm0zRy3TYrxIWpzMVlfAp0YOImEc9IW+cqJFJGFUZqmc6e/bs1PV6bxVHVKWro34YsnnslQKJeuNgZMQsdcoH9ps9RFVH3cZcHTNo0CAZ9QaHFTORAAnEhwCF0RJfHTlyRNSqVUseaotjivJJ+rCpPhxpCqOToKFc/e9OPVFdGFWvzRSQTKtSnRbmOJWj/80UY8VH/3s68cwkjGavU+eejo8b3+AYMRw+vW/fPnHFFVe4uYXXkAAJWEKAwmiJI2DGnXfeKdq3by97N7kmfe5NDVFm6jFmO3dRP2x4/fr1Yvfu3SmT9N7U4cOH5Xxe0MKYLawaykfCFwGz96p/ITDFMyhhxBzqxo0bxYoVK3J1Ja8nARKImACFMWIH6MXjhI0pU6aIzZs352RVuoe7G2HMdtp9ph4jxEgJoz4/B+P97jG62f6RqceIA4yxf9OtMOa7raNFixbi3nvvlSdrMJEACcSLAIXRMn/hAd6jRw8xePBg15almw9DTwlJ9fYglFiQojb4O23fMAUhmzAiP6c5OjdzjPrK1mxDqenEXxdMN8IIHuYQqd9zjPPmzRNFRUUCPW0mEiCB+BGgMFrmM6xkHDBggHjnnXdcW+a06EQNrepzjKYwKkHVe41mL9ONMCpxMleCogKZFt/kIozIyxRbs95ehdHvVamYK16wYIHAHkYmEiCB+BGgMFros759+8oTGRBOzG0y9+Fh20ObNm3kPkE1zKlfo0TM3Meob6FA2W6EEdfpc4AQY8yTZtrHqP8vXTnpepFYvaqSLupuhdHpS4Nf+xgnT54sz9ZcvHixW9fxOhIgAcsIUBgtcwjMwYO1SZMmAr3Hli1bWmghTXIiUFxcLNq2bSu2b98uv9gwkQAJxJMAhdFSvz3++ONyLnDr1q2WWkizTALNmjWTPeyBAwcSDgmQQIwJUBgtdh42iJctW1bMmDHDYitpGgiMGDFCnD171lOABhIkARKwiwCF0S5/lLDm3LlzomnTpmLkyJFiyJAhFlta2KbNmTNHPProo2Lbtm2iTJkyhQ2DtSeBBBCgMFruxFdffVVu+p85c6YMAMBkFwFs4B8+fLjczN+4cWO7jKM1JEACnghQGD1hC/cmLMKBOD799NMC+xyZ7CCAfYqdO3eWoohFN0wkQALJIEBhjIkfV61aJfr37y/FsVWrVjGxOrlmYpsLRHHhwoWiW7duya0oa0YCBUiAwhgjpy9ZskSKI4bv+DCOznH4koJhbYhinz59ojOEJZMACQRCgMIYCNbgMt2wYYN8KCPIt5dg48FZVhg5Izg4ghPgy0mHDh0Ko9KsJQkUGAEKYwwd/sorr0hxROg4BKpmCocAArwj1Nvy5ctlAAYmEiCBZBKgMMbUrwcPHhRqnyNCpPHMv+AcibMyEWJP7VOsXr16cIUxZxIggcgJUBgjd0F+BkyYMEFgeA/i2LVr1/wy490XEFi9erUURQxbT5w4kYRIgAQKgACFMQFOxkpVPLwxvDpp0iRuMvfBpwiuMH78eDmXiC8dWIHKRAIkUBgEKIwJ8fOJEyfEuHHjxLp166Q49uvXLyE1C78aixYtkqKIk0YefPBBUbFixfCNYIkkQAKREaAwRoY+mIKx2RwP9UqVKkmBZDQW95wRZQjsjh8/LtkhqAITCZBA4RGgMCbU54888oi4//77Rc+ePcWoUaNEgwYNElrT/Kv15ptviunTp8vVpmA2evTo/DNlDiRAArElQGGMreuyG37y5EkBgcSrR48e8oFPgfwXNwgi2BQVFUk2eFWoUCE7WF5BAiSQaAIUxkS799PKKYFErwjzZuhFdu/evQBq7lzFlStXyt4h5mMhhuhRUxALtjmw4iRwAQEKYwE1ilOnTomlS5dKUcB8GgQSK1nbtGmTeArPPfecXGGKumPeFXXv3bu3KF++fOLrzgqSAAnkRoDCmBuvxFy9Z88eKRJ4ffTRR1IgIRb169dPTB137twp6wdBvOiii2T98KpTp05i6siKkAAJ+E+Awug/09jlWFxcnBIQiAbEA3OSlStXjl1djh07JucMIYgQfyX4LVu2jF1daDAJkEA0BCiM0XC3ttQ1a9bIHhbea9asKVq3bi2PucKrRo0a1tl94MABgSOg8Nq0aZPYv3+/6NKlixREvDORAAmQQK4EKIy5Eiug67ds2ZISHIgONrpjfq5hw4aiUaNG8r1u3bqhEdm1a5fYsWNH6oV5UgQ2UOKN9+bNm4dmDwsiARJIJgEKYzL9GkitIERKmN544w3586FDh+QWkGrVqslA5nhXr6pVq4py5cqJsmXLynf95zNnzsig3HjXf3733XfF4cOHUy8E8Mbv2Fpx5ZVXlhBlCDMDGATiamZKAgVNgMJY0O7Pv/KnT58W6Mk5idnRo0cvED5sHfnHP/4hPv/5z8stEqZwVqlSxVFk69WrJy655JL8DWYOJEACJJCFAIWRTSRUAqVKlUqVd/78+VDLZmEkQAIk4IYAhdENJV7jGwEKo28omREJkEBABCiMAYFlts4EKIxsGSRAArYToDDa7qGE2RcHYbz66qvlHkiVcNblrFmzUr9jawhWwGKlLraxDBs2TKxfv17s3r3bV29NmzZN3HDDDbIMJhIggfAIUBjDY82SPiFgszAuW7ZMholD2LxevXql/AWhRFLCZwpjEI4No4wg7GaeJJAEAhTGJHgxRnWwVRj37t0rQ8WZoqjQwu6pU6eKMWPGyL2deo8xCPxhlBGE3cyTBJJAgMKYBC/GqA62CiOGLefOnZt2OBRChYRhTTdDqbfccos8vUMlDM3Wrl1b/qrfD4FVSYmy+r/6uz6UCzvHjh17wT0xagI0lQSsJ0BhtN5FyTLQVmGEkEG49LnEdOSzCSPywrCrGnpVQ7RKHHXhU1tWlOCZ16h5TNhiXpOtl5uslsPakEB4BCiM4bFmSZ8QsFUYMY/YsWPHvIUx3RCoLrzqGnPYFmzMXqMujPpwrmpM2Xq6bHQkQAK5E6Aw5s6Md+RBIOnCmE6o9L+nE89Mwqju0Ydk9WFZ8+95uIi3kkDBE6AwFnwTCBeArcKIHh3S2rVrswLJNJSKrRuzZ89OmweGTjMJY7oFPmo4Nl3Ges8yawV4AQmQQEYCFEY2kFAJ2CqM2YYk1fyek7Dp+xjd7GnMRxjZMwy1ubKwAiVAYSxQx0dVbVuFETz0oUyTD/6nVodm6jGaC21UPrpguhFGtbBG9QTTLbRJV15U/mW5JJAEAhTGJHgxRnWwWRiVyKjhTIVV2axWkGZblZouIECmhTVKmFXZpjDi/2qYVu816oIdo2ZAU0nAagIURqvdkzzjbBZG0FaCpJP3EhLO3MeozwG66TGifJVHp06dUnOf5j5GU8ST12JYIxIInwCFMXzmBV2i7cJY0M5h5UmABCQBCiMbQqgEKIyh4mZhJEACHghQGD1A4y3eCVAYvbPjnSRAAuEQoDCGw5mlfEaAwsimQAIkYDsBCqPtHkqYfRTGhDmU1SGBBBKgMCbQqTZXicJos3doGwmQAAhQGNkOQiVAYQwVNwsjARLwQIDC6AEab/FOgMLonR3vJAESCIcAhTEczizlMwIURjYFEiAB2wlQGG33UMLsozAmzKGsDgkkkACFMYFOtblKFEabvUPbSIAEQIDCyHYQKgEKY6i4WRgJkIAHAhRGD9B4i3cCFEbv7HgnCZBAOAQojOFwZimfEaAwsimQAAnYToDCaLuHEmYfhTFhDmV1SCCBBCiMCXSqzVWiMNrsHdpGAiQAAhRGtoNQCVAYQ8XNwkiABDwQoDB6gMZbvBOgMHpnxztJgATCIUBhDIczS/mMAIWRTYEESMB2AhRG2z2UMPsojAlzKKtDAgkkQGFMoFNtrhKF0Wbv0DYSIAEQoDCyHYRKgMIYKm4WRgIk4IEAhdEDNN7inQCF0Ts73kkCJBAOAQpjOJxZymcEKIxsCiRAArYToDDa7qGE2UdhTJhDWR0SSCABCmMCnWpzlSiMNnuHtpEACYAAhZHtIFQCFMZQcbMwEiABDwQojB6g8RbvBCiM3tnxThIggXAIUBjD4cxSPiNAYWRTIAESsJ0AhdF2DyXMPgpjwhzK6pBAAglQGBPoVJurRGG02Tu0jQRIAAQojGwHoRKgMIaKm4WRAAl4IEBh9ACNt3gnQGH0zo53kgAJhEOAwhgOZ5byGQEKI5sCCZCA7QQojLZ7KGH2URgT5lBWhwQSSIDCmECn2lwlCqPN3qFtJEACIEBhZDsIlQCFMVTcLIwESMADAQqjB2i8xTsBCqN3dryTBEggHAIUxnA4s5TPCFAY2RRIgARsJ0BhtN1DCbOPwpgwh7I6JJBAAhTGBDrV5ipRGG32Dm0jARIAAQoj20GoBCiMoeJmYSRAAh4IUBg9QOMt3glQGL2z450kQALhEKAwhsOZpXxGgMLIpkACJGA7AQqj7R5KmH0UxoQ5lNUhgQQSoDAm0Kk2V4nCaLN3aBsJkAAIUBjZDkIlQGEMFTcLIwES8ECAwugBGm/xToDC6J0d7yQBEgiHAIUxHM4FU8rbb78tvvzlL6etr1thzJZPwQBlRUmABEInQGEMHXmyC/z73/8ubr/9djF69GjRpUuXCyqbTRjXrFkjHnnkEfHkk0+KSy+9NNmwWDsSIAErCVAYrXRLvI26//77xcSJE0Xbtm0vEMh0wqgE8ZlnnhETJkwQyIOJBEiABKIgQGGMgnrCy0SvsXr16uLkyZOypvXq1RPTpk2TPUhTGCGIY8aMEbt27ZLXVqhQQRw8eJC9xYS3EVaPBGwmQGG02Tsxtk31GvUqoAeJHqFK5u/4O3uLMXY6TSeBhBCgMCbEkbZVA73GSpUqiQ8//NC1aRdffLE4fvw4e4uuifFCEiCBIAhQGIOgyjwlAadeYyY07C2y4ZAACdhAgMJogxcSaoM515ipmpxbTGgjYLVIIIYEKIwxdFqcTHbba2RvMU5epa1xJXD69Gm50O3w4cOp15EjR+TPR48eFWfOnJGvs2fPlngvV66cKFu2rNDf8XOVKlVEtWrV5OuKK65I/YwFd5dccklcMTEkXGw9FxPD3fQa2VuMiTNpZqwIvPrqq2LHjh3y9cYbb8j3Q4cOiQYNGlwgZBC2qlWrXiB8Sgx1sdR/fvfddx1F9s033xRXXnmlaNiwoWjUqJF8x6tx48axYMgeYyzcFG8js/Ua2VuMt39pvR0EtmzZIjZt2iSef/55+V6xYkUpREqU8I6eXFjprbfeKiHKEOoTJ06I1q1by1erVq1E8+bNwzInp3IojDnh4sVeCGTqNbK36IUo7yGBTwlgH/CKFSvke82aNVOCA9GpUaOGdZgOHDgghVuJ9/79++X+5jvvvNMxUlZUFaAwRkW+wMpN12tkb7HAGgKrmzeB4uJisXz5cimIderUET179hQ9evQQlStXzjvvsDM4duyYKCoqkvXZs2ePFEjUp2XLlmGbUqI8CmOk+AuncKdeI3uLheN/1jQ/AhANiAdeH330UUpA6tevn1/GFt29c+fOlOBfdNFFUiDxgviHnSiMYRMv4PLMXiN7iwXcGFj1rAROnTolli5dKsUC83MQCfSo2rRpk/XeuF/w3HPPyR4x6o55UtS9d+/eonz58qFUjcIYCmYWAgJ6r5G9RbYJEnAmgBjD06dPl6fMdOrUSYpC9+7dCxbXypUrpUCuW7dOjBo1Sh5MgOdHkInCGCRd5n0BAdVrZG+RjYMEShKAIEIM8cKcIQQAWyuYPiWALSBggzlJsAlSICmMbHWhElC9Rp6gESp2FmY5ATzw8aURvUP0iiiI6R0GgUSPGr1IMINA+p0ojH4T9ZCffhSTh9t5SwwInD9/PgZW0sSwCWzcuFGMHz9eBtyfNGlSbDbAh83JqTzMu4IdDh4Au/bt2/tmFoXRN5TeM4IwFtKDE73GSy+91DuwmN1ZaP6NmXsiMRcb3ceNGyfnzfBQ79evXyR2JKHQRYsWSYHEfOyDDz4oAxvkmyiM+RL04X4+OH2AaHEW9K/FzonAtKeffloMHTpUrjCFKJYpUyYCK5JV5Llz56Q4YiXr7NmzRefOnfOqIIUxL3z+3MwHpz8cbc2F/rXVM+HbhUVnc+fOlQ/vrl27hm9AwktcvXq1/NJx1113iYkTJ3quLYXRMzr/buSD0z+WNuZE/9rolXBtwmKzQYMGyRMqIIo4iYIpGAI4LQTiiBNC5s+fL6pXr55zQRTGnJH5f0OYD85p06aJsWPHlqhEIc1v+u+97DmG6d/s1vCKsAls375drjYdMGCAuPfee8MuvmDLmzJliliwYIEcXr322mtz4kBhzAlXMBeH9eBEOZigXrt2baoiSigRjR+Bh5n8JxCWf/23nDnmS2DDhg1yLnHq1KlyeI8pXAIYtkZHAOLYoUMH14VTGF2jCu7CMB6ct9xyi6yALoqqRsOGDRPr168Xu3fvDq6SBZxzGP4tYLzWVn3JkiWif//+8qHcrVs3a+1MumGrVq2SX04WLlwo+vTp46q6FEZXmIK9KOgH5969e2Ug3nS9QhwBg4NKkWrXri3fly1bJmMTqoRvvGPGjEn9fvXVV8tvwH/4wx/kknMkvTeK/+NlCjH+1rFjRzFr1ix5D0QZcy4q6TYqu1G2Gv5FMGUkM7Aw/q5sx//NIWNcH5XwB+3fYFsnc/dCAA9jiCJWoHIkxgtBf+/BMw4rVSGObr6kUBj95e8pt6AfnErk3M4lOg2vwkZMaCtBg8BBjBDkuFevXkIXMQioU5lonDigVImfEkVll/l/lacparBFF2qzx6vs1+ubTqg9OSzHm4L2b47m8PKACTzzzDNyszlEEV8CmewggFExiCOCKrRt2zajURRGC3wW9IPTSSgyVdsUHlyrhE71zJyEBgIFMUMvUYmaEk7Vi8OYP3puTv9XPUgzD10E0/V+8XfVY3Sy3xThMN0etH/DrAvLykwA0VggijNnzpTDd0x2EcCw9vDhw6U44tSOdInCaIHfgn5w5iKMZq9NxwM7ldCZQ6KmqOF3c15TvyddL1b/ezrxVL1VvQebzo2wQQ314hq3vWY/m0XQ/vXTVublnQA2mTdt2lSMHDlSDBkyxHtGvDNQAnPmzBGPPvqo2LZtW9rgChTGQF3gLvOgH5xmby+TVfkKo76IEpJb6gAAIABJREFURy/38OHDJYZRnbaN6Hbpc4l6r1NdY85N6r1KPW81DMseo7u2yKu8E1D7FGfMmOE9E94ZCoERI0ak9jk6FUhhDMUNmQsJWhizLb7Re2bYDKvPAyrLzd5buh6jLoz6PTh4VP+fm15suh6jSVOJHgT0+uuvlwtzTDGlMFrQ0BNswuOPPy7n37du3ZrgWiaras2aNZOL/wYOHHhBxSiMFvg6aGFEFfX5v3TCooYZ3c4x6qtLVRnmtg81nIp5Rf36dD1TXTDdCiPKVjbfcMMNjsKuhlQ5lGpBg0+YCTt37hRNmjQRWHTTsmXLhNUuudUpLi6Wi3AQgKF+/folKkphtMDvYQijEg9zhafe28LqUiS3q1LdCKO+7cPcLmKKlbmy1UkYlaDqPUJVhsrfXEGrD61SGC1o8AkzoW/fvvLBet999yWsZsmvzuTJkwW+2CxevDh/YTQXNOg5mvvd/EKLB/jdd99dYq+aH3nnMv/mR3lOeYQljCjbyXdOYuFmH6MbYUwnyIqDOVeoC166HqMSR52lLrrm/7G/EpH3MUSs8g8zqEGY/g2qjTJfZwLPPvusDPW2b98+IoopgauuukqGjtO3cHjqMaaLomJ+4/eLU5DiFWTebuvPB6dbUv5eh3bsFAnI31I+HeaNoqfqdz2Y34UE8OWwR48eYvDgwcQTUwLz5s0TRUVFcg2ESr4KIzIN4pt4kOIVZN5u2wkfnG5J+XcdvsShrVIY/WNaaDk9+eSTAoGqN2/eXGhVT1x9W7RoIQO833777bJuvgtjuqgjavk9CtW/PevzQxjqUkkNjWUa0ssUTiyd55zyQ7gxPaRYtmFEv1sFhdFvotnzQzvFQp0wwnXRv9n9EccrsIEfm/kZHDyO3itpMwKPYNM/AgAEIoxmj9E80UEJpxIiJUL6ohBzab1Tr85cuOG0KMN0l5mPPhdl2qPPWTmt0vSzKfDB6SdN+/Kif+3zSb4W4cy/WrVqiffff1984QtfyDc73h8xgQ8++EBcdtllcq4YZ2X62mM0xSndXjWnCChOwaPNXqMSr3RL/bMN46rA13owbCXCeqgzc1FJrrFGc/UxH5y5EovX9fSvHf56++23RdWqVUWFChXyNujhhx8Wu3btkgfhMiWDAAI01KtXTy7y9CyMepgtHYu+qjDdIh0IpoqZ6dQbNDekm9ekE1wlmOZJC7Av3SZ3PW9c53QKRbYN8vk2Cz448yVo9/30rz3+ufnmm8VNN90kRo8eLS699FLPhl133XUC4pgtGLXnAnhj6ASwDxWi+PLLL3sXRlidbeFCvsKoRDYsYVRhy9J5xCk0mR/e44PTD4r25kH/2uObNWvWiNtuu032GiGOXgTy1KlTctgNsVHhW6ZkEMDalzJlysjhcc89xnyEUR/yzNRjzFUYM60wTbcnLlM8z7Dc7fTgzDYsHJZtcSknrK0XXnhQGL1QC+4e9BrRO0C6+OKLxbhx43ISyA0bNohJkyYJ7GHMlMzFgbjWy5frTIeMpyvfTcjFfAnnWgaewehlq6Pr8i0/iPsxmoA9z4EKYy5zjPrwpyli5hBpPnOMTpvScVCuKt9poU2mwNp+OIfCmB9F279EUBjz86/fd6teo55vLj3IBx54QGCxxkMPPZTWNIgZwiDqh2MHtc/byYhcRctvxk75OcVXDqPcXMq455575GKqQIURBrldlZqLMCLffFalqkU9TqtSncKhBX3ILYUxl6Z74bUUxvz4FeLdCOGGxTNmciOQGIq95pprBMKJOaVMax3CEqywysml7cRBGBHW7/XXXw9eGAFOnZ+nIDrtY8wkjHoe+hl8fuxjxNBG7969M+5jdHPuXy4NxLw2kzCih4seLZJTnFMzaLc5nKy+peplmouTzH2bCKGmzx+bR0SZdqSruz7/4uYe1VvHvlIkpy8w+LvbNpCt3WHIRPGFfWCpFl/pe2qdwhyaofWcFnwpLuwx5vPpCOZep16jXlImgbzxxhtlPGG8ZxJGMzZwuppk+3y5GUo180CbxedIf9aa17gZ1jU/Q+bB43oZ5nNE/8yn+yyazyfz2YO6qwPIzeeg/hl0ekab879u6vvCCy8I7Frw1GMMpqkWbq7phBENQW8o5vCMU0/JFEZzaNi8x9xXCi/gHtXQ0gVsQEPPtPhKzwN5uunVqYasf5id9qea3zyd8nY7UqF/oPQPaaZ9rSgfSQ2TmUHM3XzxKdzWbk/N9bnGdFY5CWTdunUFot5gaX+2L4XZvlS7+XxlE0YzD12g1GfJ3JbmZljXLDfTIkin6Sbzc2r+7mSDWaYSP/XlVP+MKqFzekaYz71sn1HlR4wiIPoNhdGCz2kmYdRFwpx7zSaMqFq67SfqW1i64AUoC9c4/T/b2YbphnGQV6ZvbaaYwn6nh4I5VJVO7M34pG73z5o9RH3/a7oFXpkeXly5aMGHLE8TdIHE5wInMlSqVCltrk4jNbjYbJNuPl/ZhNHpc6VPNaVbeJhtuNVp3zfqoJ4N+v3p9nqra3Gfmy+05tY4p7lap6kt3Vanern5IgAb33vvPfmFh8KY5wfGj9vTCSOcafbK9MaVTRjxAVZDGE7fXHPdn2kOH6YLjK2GP8zVZ+n+rhg6PSTSian+d5ODX9uElF36hy5dzzdTEAgKox+fEjvygECePHlSfPzxx6J06dKujDKHGNP1ItN9vjIJY7r5TCfRMof7s33+1RfgdNMgTmenAki6L79OPUiE09MDrigBVX93qrvTXGW6+UvzpJ1spz/hmYZ6URhdNe1gLwpSGGG5ORerGoeb1bb6vIT6gGTrMZrzCTo9cw5B/58pjOm+dat7VD3CEEa1mpnCGOxnwdbcc+0xpquHEj8lUm4+X1EJI+qQaf2Bm7jY+jyrKV6ZvjCqLw9ehVHPG0J9/fXXy9GzbMJ4/PhxebYmhdGCT2Kuwqi+TbnpMZrVU6KGxlK9enXH0+7VPemGYNwIo7ktxg3mdMKYbdLcrTDmun9W7zFmE8ZMw1JcfOPG++FfE+QcY7ra6F9Gq1WrJh/WZvs2P19uhNFc6OOmx+jmi7FeDyWSmdYf6NerL8jpwm2mm8bR8/AijE7PRbdDqZxjDP9zmLbEXOcY1YfAqQE4LaYxC9YbZKbGme6DY26VcRJfc7WsGiLJJJhOtjgNkZiCrYcYRDl+7Z91Ekavc4w8j9GiD9wnpgS5KjXTQjPVdiEWKtKWKWrm58vNHKPZE/JjjtHJY7ot2eYozeeHOZWSrl76c8CLMGZal5Ctx8hVqRZ9TjMJoz4fYU46myutzFWV6oOnfyM173ESUn3C21wQow/9pHvYKzt023MVbOUeZa8Zg1ffPG0KI+51uyo12zYhJ0HnqlSLPjweTQljH6PTtIEpDm4+X9mE0fxs+bUq1bTN7HXpwuj0+Xbq+WLdg1p7oIRTFys3veVsc4zpVtqjqWQTxrz2MXpsi7wtDYFMQ6loSGr/jtMHTZ8/xLAMQlXp+zLNyWeYYH5DzTSPYN4PG7D/D/v8sg1xmnMI2XpN6XqvTjboi5KclnArQct2DqgXYUTe5kIJ7mOMz8c7jMg3Tu0PfzM/M24+X9mEUR8lwc94DmC6xY99jOZnWBcWs8do7pOELU571vF39Xkx1xGYC3289BidPp945uHZaEYjMlttzpFvwoxzZwK3KWICGvKLL754wUqqfB4LnIPKh57999K/dvkorFipdtWa1rghkHOs1DDFKdvYtZsKBnWNmwnjXMvmgzNXYvG6nv61x188XcMeX9hmiafTNSiMn7qRwmhbc7bfHgqjPT7ieYz2+MI2SxzPYzT3uunzWV7j3CFPDMG2a9dOjnerZM41mWPTZpy/dBFL9HiWGEM+ePCgnF9LV06m2Kr6Ztd0cTL18XZ9LNyco8s2wWs2CD44bfuI+GsP/esvT6+5vf3226Jq1aryLMZ8E45PwtL++fPn55sV77eEwKBBg2TUGxxWLPcxpos1aa6I1Jfau4lzp4Qo08pKN3H+nIRRFya1EMIUcz2ep7nayVxK7DZOptljVPbrC1rM1VzZ/M4HZzZC8f4//Rtv/zlZf+TIEVGrVi15qC2OKWKKNwEcI4bDp/ft2yeuuOIKUeqT1UHnnTaZmjHqvMS5c9oIbobOwkPDXKll7uPJFuPSaXmuvoQ/00Z1FXYt3QZQM16gKYxOQ6uZDkx2aj58cMb7Q5XNevo3G6F4/v/OO+8U7du3lytAmeJNYO7cuWLjxo1ixYoVsiIXRL7Rh03NY0P0HmO6ALPZ4krqwugmzh+MdBJGfXm802IdNwFudVvSiWcmYcwUOcJJ8NM1HT444/2hymY9/ZuNUDz/jxM2pkyZIjZv3hzPCtDqFIEWLVqIe++9V56skRJGfe5NDUdm6zGa+1t0xmroNFvIMrUB3dwDlmm7hlNvLJswOu2v0e1Ve92ces5O8f3cxBpNkjDm2gN2+ryZeYS5mCvqzz+FMWoPBFc+Ogs9evQQgwcPDq4Q5hwogXnz5omioiJ5HqtKpT6ZGzuPxSZOYYn0zZCZBCKd1W6FMVOcPz96jG62f2TqMeo9ZX3oNF2PMV1ece0xBiGMgbZ0yzKnMFrmEB/NwUrGAQMGiHfeecfHXJlVmAQwV7xgwQKBPYwpYfxkfu+8eYK9EiO8q8NYvcS5yyaM6c77czPHmMtQajoB0wXTrTBmm3MEs1yFxPYHZ671cdNjDLPhR12W7f6Nmk/cy+/bt688kQHhxJjiRWDy5MnybM3FixeXMDy1+MYpXp258jPXOHduhNFNnL985xhRY1NszcU2XoUxiatSnbafYLuN/mUk1y0q6YZS+/Tp4xheTv8yg204CEOHnjvC4+ntMtMWHFs+ohRGWzwRjB14sDZp0kSg99iyZctgCmGuvhMoLi4Wbdu2Fdu3b5dfbPQkF984HaTZpk0buSdQDXPq17iNc+dGGGGMPgfoFOfPD2FEOeZDVF8N61YYnYJo5yoSpodtenCaAqbHclR+NwORoz7ZAh9kmmN0OsDY6Ygo84BX88uOsjVbDFffP2FZMrTJv2HXvVDKe/zxx2Vw7K1btxZKlWNfz2bNmklNGDhw4AV14XmMFrjXpgen02pj9YUi3blqQJjpBHv9/055OM0B63Y4CXG64fFMR/5E5Wqb/BsVg0IoFxvEy5YtK2bMmFEI1Y11HUeMGCHOnj2bNkADhdEC99ry4NSj/7Rq1SpFRu/t4Y/o1ZsLptLdqzLJ1GM0e+um6LldiYyy0m0BitLNtvg3SgaFUPa5c+dE06ZNxciRI8WQIUMKocqxrOOcOXPEo48+KrZt2ybKlCnjWAcKowWuteXB6UYY1RabdNjSDWNm266hHy9j9voojBY0UprgisCrr74qN/3PnDlTIAAAk10EsIF/+PDhcjN/48aN0xpHYbTAb7YJoyluujClO3U8G8ZswqgPp5rzlbkIox8raLPVJdf/2+LfXO3m9d4IYBEOxPHpp5+WC8aY7CCAfYqdO3eWoohFN5kShdECn9n04HTaeG/OMTottMkUBQiIswmj6q1igQ1WnupDtU5ixzlGCxouTUhLYNWqVaJ///5SHPVpCSKLhgCeFxDFhQsXim7dumU1gsKYFVHwF9gkjOZCF6dVqU5bVCCoetB2k1o2YcT1apWpeYp3ul4gV6UG3zZZgncCS5YskeKI4Ts3D2PvJfHOTATwJQXD2hBFbA9zkyiMbigFfI1Nwqj37lS1MbRqBoFw2uKD5erpkhthVNeYx3ZlGh7lPsaAGyezz4vAhg0b5EMZbZrBxvNC6elmBAfHHmx8OenQoYPrPCiMrlEFd6FtwhhcTQszZ/q3MP2uav3KK69IcUToOASqZgqHAAK8I9Tb8uXLZQCGXBKFMRdaAV3LB2dAYC3Jlv61xBERmoHoTWqfI+bQceYfUzAEcFYm1iqofYrVq1fPuSAKY87I/L+BD07/mdqUI/1rkzeitWXChAkCw3sQx65du0ZrTAJLX716tRRFDFtPnDjRcw0pjJ7R+XcjH5z+sbQxJ/rXRq9EZxNWquLhjeHVSZMmpd1kHp2F8SsZwRUQTxlzifjSgRWo+SQKYz70fLo37AfnJ+FxxXe/+11xzTXXCIRGYgqWQNj+DbY2zN0PAidOnBDjxo0T69atk+LYr18/P7ItyDwWLVokRRFnCT/44IOiYsWKeXOgMOaNMP8M8OBkSjYBfBlhIgGTADab46FeqVIlKZCZorGQXkkCiDIEdsePH5fsEFTBr0Rh9ItkDPLBEAO2N+gJ37ZwnlwhpKNHj4qqVavKqn7lK1+RRwS1aNFCvjdo0KAQELCOlhJ45JFHxP333y969uwpRo0axfaYwU9vvvmmmD59ulxtCmajR4/23asURt+R2pfhRx99JIdOn3jiiZRxpUuXFj//+c/F4MGD7TM4QIswt4N6m+nyyy9PiaQSywoVKgRoCbMmgZIETp48KSCQePXo0UM+8PmF7V+MIIhgU1RUJNngFdRnlMKY8E/nn/70JymKr732Wqqm119/vRSHXPf2JAEVOLgdrgIfJZJ4r1evXhIQsA6WE1ACiV4R5s3Qi+zevbvlVgdn3sqVK2XvEPOxEEP0qIMSRFULCmNw/ow858cee0wegaMnDKUi8n8hJzxkECYq11S5cuUSw6/t2rXLNQteTwKuCZw6dUog6hREAfNpEEisZMUh8klPzz33nFxhirrjiyzqjuhb5cuXD6XqFMZQMIdbyIcffiiHSH/5y1+mCr744otlL/E73/lOuMZYWBrCdHk99aBRo0ZyqT164RiOZiKBMAjggG+IBF6YGoFAQizq168fRvGhlLFz505ZPwjiRRddJOuHF2Inh50ojGETD7g8fIC+9a1vic2bN6dKuuGGG6QoYnsG06cEbrzxRvHiiy+6xoHeIQTxm9/8put7eCEJBEGguLg4JSAQDYgH5iQxohG3dOzYMTlnCEHEs0sJPhbERZkojFHS97lsnAMHUcSZiSphKPVnP/uZzyXFP7vFixe72juG4RsIYuvWreNfadYgcQTWrFkje1h4r1mzpmynOOYKrxo1alhX3wMHDgic2IMXjpbbv3+/6NKlixREvNuSKIy2eCJPO7Dt4tvf/naJXBB6qtBWneaCEcdk4VtqugRBzHRiSC5l8VoSCJrAli1bUoID0cFGd8zPNWzYUGAKAO9169YN2oxU/rt27RI7duxIvTBPisAGSrzx3rx589DsyaUgCmMutCy9FlHk77vvvpR1l112mfjf//1feb4hU3oCP/nJT8Tdd9+dERFiLs6ZM4cYSSB2BCBESpjeeOMN+fOhQ4fkFpBq1arJQOZ4Vy/s8S1XrpwoW7asfNd/PnPmjAzKjXf953fffVeOUKkXAnjjZ2ytuPLKK0uIMoTZ7YrwqGFTGKP2QJ7lm/vy0PAgimiETJkJfPDBB6JKlSoCq//0dO211wocFaQSgj1jDgQLmJhIIM4ETp8+LdCTcxIzBMAwhU+JoS6SunDi8+MkstjadMkll8QWFYUxpq7729/+JucTf/vb36ZqcOutt0pRvPTSS2Naq/DNHjNmjPjxj39comDs/QTHGTNmpP6OxTpPPfWU+OIXvxi+kSyRBEggVAIUxlBx+1MYvu1BBLdv357KkPNh3tju27dP1K5dO3UzloljuwvSj370I/HDH/4w9b+2bdvKTcbsOXpjzbtIIC4EKIxx8dRndjqJIuYYEamfyRuB/v37p/Z8YvP0s88+m8oI84vYs6jS17/+dYFjg5hIgASSS4DCGCPfYuIcPUV9/gub+HlkTX5OxL6wr371qzITDK1OnTq1RIaIFKQfz3XHHXeIX/3qV/kVyrtJgASsJUBhtNY1JQ1zEsVCOhkjaDdhBS+GSRGXsVu3bhcUh3lIiKZK+DKiRxYK2j7mTwIkEB4BCmN4rD2XRFH0jM71jU8++aTA6lMMVWMZu1OaOHGiPOZGJQyx4igvJhIggWQRoDBa7s+DBw/K4VPsSVKJPcVgnIb5RQQvzpTuueeeEkOtWLk6fPjwYAxiriRAApEQoDBGgt1dof/3f/8nsBJSF0WEMsM2DSb/CaxevVr2GrOlIUOGCEQVUgmLdQrhxINsXPh/EkgKAQqjxZ687bbbZAxElSiK9jhLD0KO0HII2o6IQ0wkQALxJ0BhtNSHOIzzpz/9aco6bDjv06ePpdYWnlmIHoIDn3GoLBIW7GDhDhMJkED8CVAYLfQh5q3+67/+K2XZpEmTSsRCtdDkgjQJx+XgVACVEAwAC3SYSIAE4k2AwmiZ/373u9+Jzp07p6zCwcJPPPGEZVbSHF0MESFHpW3btokmTZoQEAmQQIwJUBgtct6f//xneYDue++9J60yo7BYZCpN0Qh06tRJrF+/Xv4FP69du5Z8SIAEYkyAwmiR83BqNRZxIOHIlhdeeEF86UtfsshCmuJEAL3EZs2apf6FMHI4roqJBEggngQojJb4DecpIuapSr///e9Fu3btLLGOZmQjMH78eDF58mR5GVanvvXWW+Lyyy/Pdhv/TwIkYCEBCqMFTnnppZdEixYtUpYgmooeuNoCE2mCCwI4AHbnzp3yykGDBol58+a5uIuXkAAJ2EaAwmiBR26++WbxzDPPSEsQsxMLcJjiRwABAvQ4qy+//HKJIdb41YgWk0BhEqAwRux37FXEnkWVEOXmK1/5SsRWsXivBHr16iWWL18ub//2t78tFi5c6DUr3kcCJBARAQpjROBRLA7JrV+/vjh37py04oEHHhD/8z//E6FFLDpfAi+++KJcWawShlbr1auXb7a8nwRIIEQCFMYQYZtF9ezZU6xYsUL+GasaMfTGFH8CXbp0EU899ZSsyLBhwwTOc2QiARKIDwEKY0S+ggg2b948VfrGjRvF1772tYisYbF+EsCeRuxnVOnAgQOievXqfhbBvEiABAIkQGEMEG6mrAcPHizmz58vL+nbt6/AUVJMySGArTZ//OMfZYV+8IMfiGnTpiWncqwJCSScAIUxAgcfPXpUVK1aNVUyzgBs3bp1BJawyKAIrFq1SnTv3l1mX7t2bbFnz56gimK+JEACPhOgMPoM1E12WGQzYcIEeelNN92U2qrh5l5eEx8C+PKDL0FIPLMxPn6jpSRAYYygDWC+6dChQ7JkHicVgQNCKhILbxCsAel73/teiWPEQjKBxZAACXggQGH0AC2fWxYsWCBwYgYSh9jyIWn/vRs2bBAdO3aUhtasWVP85S9/sd9oWkgCJCAojCE3gt69e4tly5bJUh966CExduzYkC1gcWES0EcHGP82TPIsiwS8E6Awemfn6c6rrroq1XPYvn27uPbaaz3lw5viQWDkyJHisccek8Z+//vfF9OnT4+H4bSSBAqYAIUxROfv3btX1KlTR5b4xS9+Ufz1r38NsXQWFQWB3/72t+LWW2+VRSMizvPPPx+FGSyTBEggBwIUxhxg5Xvp4sWLRb9+/WQ2nTt3FnhoMiWbwLFjx0SVKlVkJcuUKSPOnj2b7AqzdiSQAAIUxhCdqK9SnDRpksAZjEzJJ/DlL39Z7N69W1Z0y5Yt4rrrrkt+pVlDEogxAQpjiM7DfCJOz0BCVJS2bduGWDqLiopAnz59xNKlS2Xxs2bNEkOHDo3KFJZLAiTgggCF0QUkvy7RVygeOXKkRPQbv8pgPvYRwIKb0aNHS8OwVeeJJ56wz0haRAIkkCJAYQyxMWCuCXNOSO+9956oWLFiiKWzqKgIbNq0SbRp00YW37RpU7F169aoTGG5JEACLghQGF1A8uuSyy67LLUS9W9/+5u49NJL/cqa+VhM4ODBg6JGjRrSwmrVqqWiHllsMk0jgYImQGEM0f3ly5cXp0+fliV+8MEHoly5ciGWzqKiIvDRRx+Jiy++WBb/uc99TvzjH/+IyhSWSwIk4IIAhdEFJL8uwXL9Dz/8UGaHh+XnP/95v7JmPpYTqFSpkhw+R0Jg8cqVK1tuMc0jgcIlQGEM0felS5cW58+fpzCGyNyWoho1aiR27NghzXnttdfENddcY4tptIMESMAgQGEMsUl86UtfEvv375clvv322+Lqq68OsXQWFSWB9u3bC8RKRUJwcfzORAIkYCcBCmOIfsHZiziUGGnjxo3ia1/7Woils6goCXzrW98SS5YskSYgAhJ+ZyIBErCTAIUxRL/0799f/PKXv5Qlzp8/XwwcODDE0llUlAR69eolli9fLk1YsWKF6NGjR5TmsGwSIIEMBCiMITaPCRMmiAceeECWOH78ePGjH/0oxNJZVJQE7rjjDrFy5UppwqpVq0TXrl2jNIdlkwAJUBjtaAO/+MUvxH/+539KY/r27SsWLVpkh2G0InACt912m1izZo0s56mnnhLf+MY3Ai+TBZAACXgjwB6jN26e7sL8IuYZkZo0aSK2bdvmKR/eFD8CX//618XatWul4evWrRMdO3aMXyVoMQkUCAEKY4iO/vvf/y7+7d/+TZZYqlQpuaeRexlDdECERWGh1R/+8AdpAd5vvvnmCK1h0SRAApkIUBhDbh/169cXu3btkqW+9NJLonnz5iFbwOKiIIBYqYiZioT3Vq1aRWEGyyQBEnBBgMLoApKfl/Tu3VssW7ZMZjlnzhxx1113+Zk987KUQK1atcQ777wjrfvzn/8scEYjEwmQgJ0EKIwh+2XatGli7NixslScy4fz+ZiSTeCf//ynjJGqEobQL7roomRXmrUjgRgToDCG7DxEPVELL1q0aCGKi4tDtoDFhU1g3759onbt2rJYnLKhoh+FbQfLIwEScEeAwuiOk29X4bipL37xi6n8Tpw4IXAcFVNyCfzxj38U7dq1kxXE3KKaa0xujVkzEog3AQpjBP678cYbxYsvvihL/vWvfy26d+8egRUsMiwC3L8aFmmWQwL+EKAw+sMxp1zuu+8+MWXKFHnPiBEjxGOPPZbT/bw4XgQY8She/qK1JEBhjKAN6PN/hTbUAAAaDUlEQVSMOI7o9ddfj8AKFhkWAT3qDXqPAwYMCKtolkMCJOCBAIXRA7R8b8EJ7uXKlUud5H7gwAFRvXr1fLPl/ZYSwKHEx48fl9bt3LlT1KtXz1JLaRYJkAAIUBgjagcdOnSQR08hcT9jRE4IoVgIYYMGDWRJVapUEe+++24IpbIIEiCBfAhQGPOhl8e9P/vZz8T3v/99mUPnzp3Fb3/72zxy4622EtAX3tx+++1i9erVtppKu0iABD4jQGGMqCkgCgqioaj0/vvvi3//93+PyBoWGxSBIUOGiLlz58rsH3zwQXHPPfcEVRTzJQES8IkAhdEnkF6ywZ62F154Qd7KRRleCNp/T+PGjcVrr70mDcV+xrZt29pvNC0kgQInQGGMsAH8+Mc/FmPGjJEWdOvWLXWQbYQmsWgfCRw5ckRUq1YtleOZM2dE2bJlfSyBWZEACQRBgMIYBFWXeSKYdN26deXVpUuXlgszKlWq5PJuXmY7ASyq+u53vyvNxLFTarGV7XbTPhIodAIUxohbwPXXXy+2bNkirfj5z38uMCfFlAwCt956a2pR1U9/+lPxve99LxkVYy1IIOEEKIwROxgPzFGjRkkrGEczYmf4WLwZE3fv3r0lFlv5WBSzIgES8JkAhdFnoLlm995775UYPt22bZto0qRJrtnwessILF68WPTr109a9dWvfjUVG9cyM2kOCZCAAwEKowXN4lvf+pZYsmSJtGT06NHiJz/5iQVW0YR8CNx5552iqKhIZoG4uOPGjcsnO95LAiQQIgEKY4iw0xX1u9/9Tm7yR0L4sKNHj1pgFU3wSgAh/8qXLy/OnTsns3jjjTdEw4YNvWbH+0iABEImQGEMGXi64v7jP/5DvP322/Lf6D327t3bEstoRq4E9Gg32Mf4yiuv5JoFrycBEoiQAIUxQvh60Q888IDA8URIbdq0Ec8++6wlltGMXAnAf+ow4qlTp6b2quaaD68nARKIhgCFMRruF5SKPYxXXHFF6u9/+MMfxM0332yJdTTDLYGXXnpJtGjRInX5sWPHuDfVLTxeRwKWEKAwWuIImIHN4NgUjoTFG8uXL7fIOprihsCwYcPE7Nmz5aXf/va3xcKFC93cxmtIgAQsIkBhtMgZmIvSt2q8+eabon79+hZZSFMyEfjggw9ExYoVxdmzZ+Vl7PWzvZBAPAlQGC3zG44m+s1vfiOtGjlypMDxVEzxIDBz5kwxYsQIaWzTpk3F1q1b42E4rSQBEihBgMJoWYNYu3at+PrXvy6tuvjii8XBgwc5R2WZj9KZ07x5c/Hyyy/Lfz/22GMpkYyJ+TSTBEjgMwIURgubAhZvYBEH0tixY8VDDz1koZU0SSewatUq0b17d/mnMmXKCEQ0wl5GJhIggfgRoDBa6LMVK1aInj17Sss+97nPyV5j1apVLbSUJikC+haN//7v/xYPP/ww4ZAACcSUAIXRUsfdcMMN4k9/+pO07u677xY4uzFdWrlyZaq3Yml1Em3WmjVrxG233ZaqI77IXHnllYmuMytHAkkmQGG01Lu//vWvxTe/+c2sD9vjx4+LXr16id///veW1iT5ZrVr10788Y9/lBX9/ve/L6ZPn578SrOGJJBgAhRGi53bunVr8fzzz2d84H7nO98Rr776qsCpHEzhE3j66afFN77xjVTB77zzjvjSl74UviEskQRIwDcCFEbfUPqf0erVq0W3bt1SGe/evVvUqVMn9TuGUO+44w5Rs2ZN8Ze//MV/A5hjVgIdOnQQGzdulNdhqwZWozKRAAnEmwCF0XL/ISzcM888I63s37+/WLBggfz5ww8/FA0aNBB79uyRqx9PnjxpeU2SZ9769etFp06dUhWDL2rXrp28irJGJFBgBCiMljscvRH0SlSCSN50001yLkvf/I9oK9gmwBQeAX2oe+jQoWLWrFnhFc6SSIAEAiNAYQwMrX8Z6wcZY6EHDr3VxRIlHT58uEQQcv9KZ05OBObNmyfuuusu9hbZPEgggQQojDFw6ltvvSXq1auXsvSqq64SWOShJx6GG54jMYyNuV5sy0DCcWH3339/eAawJBIggUAJUBgDxetP5h9//LEYNWpUxoUdzz33nMDQXtjp9OnTYteuXbLHql5HjhyRPx89elScOXNGvjDUq7+XK1dOlC1bVujv+LlKlSqiWrVq8oVjuNTP+GJwySWXhF09x/Luu+8+MWXKFPk/fEnB3GLp0qWtsI1GkAAJ5E+Awpg/Q19yQEgx7EV8//33xYkTJ+Q7XjjP79SpU1nLwApWBCAPMmFbyI4dO+QLPVS8Hzp0SC4CMoUMvyNajyl8Sgx1kdR/xrmUTiKLk0awab5hw4aiUaNG8h2vxo0bB1nlC/L+85//LOrWrZv6+y9+8QsxYMCAUG1gYSRAAsESoDAGyzen3LFn8Qc/+IEoLi7O6T5c/MQTTwjsafQzbdmyRZ5ED7vwjiOVIERKlPCuD/H6WbZTXhhS1kUZQo0vEegp49WqVSuBQN5BJn2+t23btqmN/UGWybxJgATCJUBhDJe3q9IwTIfhulwSYnMiRme+CeHNEKsV79gfqQQHolOjRo18s/f9/gMHDkjhVuK9f/9+0aVLF3nQM979TOb2DES7gTgykQAJJIsAhdFSf7722mtywzh6am7SvffeKyZPnuzm0guuQQ91+fLlUhCxqAQBzHv06CEqV67sKb8ob8LQc1FRkawP5v4gkKhPy5Yt8zZLP1YKw6cYRmUiARJIHgEKo+U+nTFjhhgzZoxcuJIpffe73xWzZ892XRuIBsQDr48++iglIPXr13edh+0X7ty5MyX4F110kRRIvPToQW7rgFWnEydOlJcjL8w1YuENEwmQQPIIUBhj4FOEe8PcI3pC6RJ6RhC5TAmLeJYuXSqvw/wcRAL34cikpCes2kWPGHXHPCnq3rt3b1dnJmKu9frrr08h+ulPfyq+973vJR0Z60cCBUuAwhgj1y9atEj2HrFy00zt27cXGzZscKwNwsXhxIdHHnlEhjCDKKhDdWNUfd9MRYxZCOS6devkNpjRo0eLChUqpM1fD8uHwAqYa2QiARJILgEKY8x8+9e//lWK4/z580tY3rRpU7F169YSf4MgQgzxwpwhBABbK5g+JYAtIGCDnjjYOAkkFjWht67S9u3bxbXXXkuEJEACCSZAYYypc5988kkpkJjrQsJ81759+1K1wQMf82LoHaJXREFM72gIJHrU6EWCGQQSCXOUOrdJkyblvFo4ps2LZpNAQROgMMbY/f/85z+lOP7kJz8Rl156qfjb3/4mj0AaP368qFSpksCDPOwN8DHGKeddwQ6HP4MdgrQ/9dRTskpf/epXxYsvvhjn6tF2EiABlwQojC5B2XwZTtxALwfDqZhnxEO9X79+NptstW1Oc7nYNoO9nEwkQALJJ0BhTICPcYo8jj269dZb5ZwZj5/K36nnzp2Tx3tt3rxZzs9iRSsTCZBAYRCgMMbczzjZYe7cuXIPY9euXWNeG/vMV71HHDGl9jHaZyUtIgES8JMAhdFPmiHmhSOPBg0aJE+ogCjiJAqmYAjgtBD0yHFCCFYDV69ePZiCmCsJkIAVBCiMVrghNyOwZQCrTRGWDKHgmMIhgBi2CxYskMOq3LIRDnOWQgJREKAwRkE9jzKxuAbRaqZOnVriBPk8suStORDAsPXYsWOlOGKzPxMJkEDyCFAYY+TTJUuWiP79+8uHcrdu3WJkebJMxdmZ+HKycOFC0adPn2RVjrUhARIQFMaYNAI8jCGKWIHKbQPROw3HXHXu3FmKI7+kRO8PWkACfhKgMPpJM6C8sE8RsVAhih07dgyoFGabKwHETIU4IqgCz2XMlR6vJwF7CVAY7fWNtAzRWCCKM2fOlMN3THYRwLD28OHDpTgyypBdvqE1JOCVAIXRK7kQ7sMmc0SzGTlypBgyZEgIJbIILwTmzJkjHn30UbFt2zYGV/ACkPeQgGUEKIyWOUQ3R+1TxGHFTHYTGDFiRGqfo92W0joSIIFsBCiM2QhF9P/HH39czJo164KjpCIyh8W6INCsWTMxbNgwMXDgQBdX8xISIAFbCVAYLfQMjjtq0qSJwKKbli1bWmghTXIiUFxcLBfhIABD/fr1CYkESCCmBCiMFjqub9++8sF63333WWgdTcpEYPLkyfIcx8WLFxMUCZBATAlQGC1z3LPPPitDvemHDltmIs3JQgCHRiN0HLdwsKmQQDwJUBgt8xv2KeKYo8GDB1tmGc1xS2DevHmiqKhIYJ8jEwmQQPwIUBgt8tmTTz4pEKgaZwAyxZtAixYtZID322+/Pd4VofUkUIAEKIwWOR0b+LGZH2f/McWbAIKNY9M/DziOtx9pfWESoDBa4nec+VerVi3x/vvviy984QuWWEUzvBL44IMPxGWXXSbninlWpleKvI8EoiFAYYyG+wWlPvzww2LXrl3yIFymZBBAgIZ69eqJu+++OxkVYi1IoEAIUBgtcfR1110nII5cyWiJQ3wwA/tQIYovv/yyD7kxCxIggbAIUBjDIp2hnFOnTslhN8RGLVWqlAUW0QQ/CJw/f17GTsXwePny5f3IknmQAAmEQIDCGALkbEVs2LBBTJo0SWAPo+1p7969ok6dOmLp0qWiV69ejuYuW7ZM9O7dW+zZs0fUrl3b9ioFat9NN90kxo8fLzp06BBoOcycBEjAPwIURv9Yes7pgQceEFis8dBDD3nOI6wb3QhjWLbEoZx77rlHLqb64Q9/GAdzaSMJkMAnBCiMFjSD2267TVxzzTUC4cRsTxTG3DyEsH6vv/66+M1vfpPbjbyaBEggMgIUxsjQ/6vgG2+8UUybNk3g3fbkRhj1oVQsKJo9e7bAfJuecAoFIsPs3r1b3HLLLaJdu3Zi7Nix8pKpU6eKMWPGCFWWuq9Tp05i7dq1tiMqYd8LL7wg64J3JhIggXgQoDBa4Ke6desKRL3B0n7bU67CiPpgTnLTpk2iVatWqephkZESQAjjunXrSlyjylHX4EZchxQnccQWHES/eeutt2x3Le0jARL4jACF0YKmcPnll8sTGSpVqmSBNZlNyFUYsfjm6quvFogBi/MlkZ5//nnRunXr1OIcCB56jnippPco1d9U2abI2gztvffek1948M5EAiQQDwIURgv8hN7Txx9/LEqXLm2BNf4LI4aJMUyqhlNN0XPqCUJMERoPw5B6Svd3W8Ghzqr+ttpIu0iABEoSoDBa0CKS3mM0e5n6MCrwOwljpv2cQ4cOTfU+LXBfRhOOHz8uz9Zkj9F2T9E+EvgXAQqjBa0hyXOMah+jGk5t06bNBXsc0wmjPr9ogZs8mcA5Rk/YeBMJREqAwhgp/k8LT/KqVCWMajgRvT21GlWhdxLGdAttzN6mBe7LaAJXpdruIdpHAhcSoDBa0CqSto/RKfKNvvXC7Ak6iaBaoKNfi7lJp60fFrgwrQncx2izd2gbCTgToDBa0DLiGPkmHTaEgXvppZccQ8KpbRlmqLh0vUNzHyO2fegrVy1wXVYTGPkmKyJeQALWEaAwWuCSOMVKtQBXrExgrNRYuYvGkoAkQGG0oCHwdA0LnBCACTxdIwCozJIEQiBAYQwBspsieB6jG0rxuobnMcbLX7SWBBQBCqMlbQExRbG0f/78+ZZYRDPyJTBo0CAZ9QaHFTORAAnEhwCF0RJfHTlyRNSqVUseaotjipjiTQDHiOHw6X379okrrrgi3pWh9SRQYAQojBY5/M477xTt27eXodCY4k1g7ty5YuPGjWLFihXxrgitJ4ECJEBhtMjpOGFjypQpYvPmzRZZRVO8EGjRooW499575ckaTCRAAvEiQGG0zF84haJHjx5i8ODBlllGc9wSmDdvnigqKpIRfphIgATiR4DCaJnPsJJxwIAB4p133rHMMprjlgDmihcsWCCwh5GJBEggfgQojBb6rG/fvvJEBoQTY4oXgcmTJ8uzNRcvXhwvw2ktCZBAigCF0cLGgAdrkyZNBHqPLVu2tNBCmuREoLi4WLRt21Zs375dfrFhIgESiCcBCqOlfnv88cflmYNbt2611EKaZRJo1qyZQKDzgQMHEg4JkECMCVAYLXYeNoiXLVtWzJgxw2IraRoIjBgxQpw9e5YBGtgcSCABBCiMFjvx3LlzomnTpmLkyJFiyJAhFlta2KbNmTNHPProo2Lbtm2iTJkyhQ2DtSeBBBCgMFruxFdffVVu+p85c6ZAAAAmuwhgA//w4cPlZv7GjRvbZRytIQES8ESAwugJW7g3YREOxPHpp58W2OfIZAcB7FPs3LmzFEUsumEiARJIBgEKY0z8uGrVKtG/f38pjq1atYqJ1ck18/nnn5eiuHDhQtGtW7fkVpQ1I4ECJEBhjJHTlyxZIsURw3d8GEfnOHxJwbA2RLFPnz7RGcKSSYAEAiFAYQwEa3CZbtiwQT6Up06dymDjwWFOmzOCg48dO1Z+OenQoUMEFrBIEiCBoAlQGIMmHED+r7zyihRHhI5DoGqmcAggwDtCvS1fvlwGYGAiARJIJgEKY0z9evDgQaH2Oc6ePZtn/gXoR5yVOXTo0NQ+xerVqwdYGrMmARKImgCFMWoP5Fn+hAkTBIb3II5du3bNMzfebhJYvXq1FEWckTlx4kQCIgESKAACFMYEOBkrVfHwxvDqpEmTuMncB58iuML48ePlXCK+dGAFKhMJkEBhEKAwJsTPJ06cEOPGjRPr1q2T4tivX7+E1Cz8aixatEiKYqdOncSDDz4oKlasGL4RLJEESCAyAhTGyNAHUzA2m+OhXqlSJSmQjMbinjOiDIHd8ePHJTsEVWAiARIoPAIUxoT6/JFHHhH333+/6Nmzpxg1apRo0KBBQmuaf7XefPNNMX36dLnaFMxGjx6df6bMgQRIILYEKIyxdV12w0+ePCkgkHj16NFDPvApkP/iBkEEm6KiIskGrwoVKmQHyytIgAQSTYDCmGj3flq5U6dOpQQS82ZYpHPHHXcUQM2dq7hy5UrZO8R8rBLE8uXLFywPVpwESKAkAQpjAbUICOTSpUulKGA+DQKJodY2bdoknsJzzz0nV5ii7ph3Rb179+4tKIiJdz0rSAI5E6Aw5owsGTfs2bNHigReH374oRQKvOrXr5+MCn5Si507d6bqePHFF6fqWKdOncTUkRUhARLwnwCF0X+mscuxuLhYCgh6VBANCCTmJCtXrhy7uhw7dkzOGaI+EH/VK27ZsmXs6kKDSYAEoiFAYYyGu7WlrlmzRgok3mvWrClat24tj7nCq0aNGtbZfeDAAYEjoDZt2iTf9+/fL7p06SIFEe9MJEACJJArAQpjrsQK6PotW7akRAfCg43umJ9r2LChaNSokXyvW7duaER27dolduzYkXphnhSBDZR447158+ah2cOCSIAEkkmAwphMvwZSKwiREqY33nhD/nzo0CG5BaRatWoykDne1atq1aqiXLlyomzZsvJd//nMmTMyKDfe9Z/fffddcfjw4dQLAbzxO7ZWXHnllSVEGcLMAAaBuJqZkkBBE6AwFrT786/86dOnBXpyTmJ29OjRC4RPiaEukrpwVqlSxVFk69WrJy655JL8DWYOJEACJJCFAIWRTYQESIAESIAENAIURjYHEiABEiABEqAwsg2QAAmQAAmQgDMB9hjZMkiABEiABEiAPUa2ARIgARIgARJgj5FtgARIgARIgASyEuBQalZEvIAESIAESKCQCFAYC8nbrCsJkAAJkEBWAhTGrIh4QZIJLFu2TB4/heDpu3fvdqzqLbfcItauXRs4BsR6RVg7hN9DbFo/U1h18NNm5kUCURGgMEZFnuVaQQCCgYRDi50EadiwYWL9+vVpRdPPSgQljGHWwU8ezIsEoiJAYYyKPMuNnMDevXtlTxGCOGDAANGxY0cxa9asEnaFKSoUxsibBA0gAUmAwsiGULAEpk2bJsaOHSvOnz8v9J8VEIji7NmzU3z0HuXVV18tz3tUCXmopIZncT2GRlUye6RKCNX/p06dKu3Rr1Pira7p1KlTiWFd2Ihr2rVrJ+817fFah4JtFKw4CVAY2QYKmQDETfUSlQAtXbpU9OrVK4XFqceI+/BS846mqDrNWyqBUgJq9g51AVTCqP4GwRwzZoy0SQ39qrJVvkOHDk31dk37vNShkNsF604C7DGyDRQkAadhS1N0AMYUFSV66C3Wrl07xQ5idNddd0kB03uMahGNPmyLv6Es3K8P3SqBVcLoJGhmPqbgwiBVvhJhL3UoyEbBSpPAZwQojGwKBUnASXScRM+8Tg1dmqtU9b875WMKWqlSpYTZOzXFWhdb3Un63zPVI50wuqlDQTYKVpoEKIxsA4VMAMKULulDl6bwoKeHFaxOSW35yCSMSgzdCGMmG9XQqRuB91KHQm4brDsJsMfINlBwBNINhwIEhA/7GdWeRidRwXWZ9jW6FUZdgJGn2WOEMJrXmM7yKozZ6lBwjYIVJgGNAIWRzaHgCDjNJSoI5vwg5v3mzp2bEkqn1atKUJXYuBFGJxvMOcZ0duqC6UYYvdSh4BoFK0wCFEa2gUIl4LTS02QB4VFDlaao4Fr8X982YYqpG2FUvUM1tOq0KlVdYw7tYgtJuvlD2GeW76UOhdo+WG8SkJ/xTz5g/9qARSYkkHACqldmrirVq61Weqp9ipg7RNIXy5j7GPX83Agj8jP3MSJ/hKfLtI/RDF3npseoi67bOiS8GbB6JJCRAIWRDYQESIAESIAEOJTKNkACJEACJEACzgTYY2TLIAESIAESIAH2GNkGSIAESIAESIA9RrYBEiABEiABEshKgEOpWRHxAhIgARIggUIiQGEsJG+zriRAAiRAAlkJUBizIuIFJEACJEAChUSAwlhI3mZdSYAESIAEshKgMGZFxAtIgARIgAQKicD/A2uv+7PECTcJAAAAAElFTkSuQmCC)"
      ],
      "metadata": {
        "id": "3qnrdAh3O0EQ"
      },
      "id": "3qnrdAh3O0EQ"
    },
    {
      "cell_type": "markdown",
      "source": [
        "| Tempo Término mais cedo |          Atividade Finalizada          |   Início da atividade e Previsão de Término  |\n",
        "|:-----------------------:|:--------------------------------------:|:--------------------------------------------:|\n",
        "|            3            |                C1 chega                |  ATENDIMENTO C1 inicia em 3 e finaliza em 8  |\n",
        "|            5            |                C2 chega                |  ATENDIMENTO C2 inicia em 5 e finaliza em 7  |\n",
        "|            7            | C3 e C4 chega, ATENDIMENTO C2 finaliza |  ATENDIMENTO C3 inicia em 7 e finaliza em 9  |\n",
        "|            8            |         ATENDIMENTO C1 finaliza        |  ATENDIMENTO C4 inicia em 8 e finaliza em 12 |\n",
        "|            9            |    C5 chega, ATENDIMENTO C3 finaliza   |  ATENDIMENTO C5 inicia em 9 e finaliza em 11 |\n",
        "|            11           |    C6 chega, ATENDIMENTO C5 finaliza   | ATENDIMENTO C6 inicia em 11 e finaliza em 14 |\n",
        "|            12           |         ATENDIMENTO C4 finaliza        |                      ---                     |\n",
        "|            14           |         ATENDIMENTO C6 finaliza        |                      ---                     |\n"
      ],
      "metadata": {
        "id": "nFb77vnNPTwd"
      },
      "id": "nFb77vnNPTwd"
    }
  ],
  "metadata": {
    "colab": {
      "provenance": [],
      "include_colab_link": true
    },
    "kernelspec": {
      "display_name": "Python 3 (ipykernel)",
      "language": "python",
      "name": "python3"
    },
    "language_info": {
      "codemirror_mode": {
        "name": "ipython",
        "version": 3
      },
      "file_extension": ".py",
      "mimetype": "text/x-python",
      "name": "python",
      "nbconvert_exporter": "python",
      "pygments_lexer": "ipython3",
      "version": "3.10.10"
    }
  },
  "nbformat": 4,
  "nbformat_minor": 5
}