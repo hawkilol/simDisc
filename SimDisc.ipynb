{
  "nbformat": 4,
  "nbformat_minor": 0,
  "metadata": {
    "colab": {
      "provenance": [],
      "authorship_tag": "ABX9TyMcbwqRRVlL1VTLwGWBLF5Z",
      "include_colab_link": true
    },
    "kernelspec": {
      "name": "python3",
      "display_name": "Python 3"
    },
    "language_info": {
      "name": "python"
    }
  },
  "cells": [
    {
      "cell_type": "markdown",
      "metadata": {
        "id": "view-in-github",
        "colab_type": "text"
      },
      "source": [
        "<a href=\"https://colab.research.google.com/github/hawkilol/simDisc/blob/main/SimDisc.ipynb\" target=\"_parent\"><img src=\"https://colab.research.google.com/assets/colab-badge.svg\" alt=\"Open In Colab\"/></a>"
      ]
    },
    {
      "cell_type": "code",
      "source": [
        "import statistics as st\n"
      ],
      "metadata": {
        "id": "K6aYmC8TuZUu"
      },
      "execution_count": 17,
      "outputs": []
    },
    {
      "cell_type": "code",
      "source": [],
      "metadata": {
        "id": "u-WzXidIw9Ic"
      },
      "execution_count": null,
      "outputs": []
    },
    {
      "cell_type": "code",
      "execution_count": null,
      "metadata": {
        "id": "S9RINQg9jM59"
      },
      "outputs": [],
      "source": [
        "L = [56,61,57,77,62,75,63,55,64,60\n",
        ",60,57,61,57,67,62,69,67,68 59\n",
        ",80,41,85,12,62,68,75,89,99,110\n",
        ",65,72,65,61,68,73,65,62,75,80\n",
        ",66,61,69,76,72,57,75,68,83,64\n",
        ",45,18,61,73,79,60,115,68,42,55\n",
        ",69,64,66,74,65,76,65,58,65,64\n",
        ",65,60,65,80,66,80,68,55,66,71]"
      ]
    },
    {
      "cell_type": "code",
      "source": [],
      "metadata": {
        "id": "spcyBEFrx0zL"
      },
      "execution_count": null,
      "outputs": []
    },
    {
      "cell_type": "code",
      "source": [
        "\n",
        "print(\"Mean:\", st.mean(L), \"  Mode:\", st.mode(L), \"  Median:\", st.median(L) ,\n",
        "      \"  Max:\", max(L), \"  Min:\",min(L),\n",
        "      \"Quantiles:\", st.quantiles(L))\n",
        "\n",
        "#Quartil 1 (Q1) cujo valor indica que 25% do conjunto está à\n",
        "#esquerda;\n",
        "#• Quartil 2 (Q2) que coloca 50% do conjunto à esquerda (mediana);\n",
        "#• Quartil 3 (Q3) onde 75% do conjunto está à esquerda.\n",
        "\n",
        "\n"
      ],
      "metadata": {
        "colab": {
          "base_uri": "https://localhost:8080/"
        },
        "id": "xqnXPpMquOTV",
        "outputId": "eb404ddb-7cdc-4f9c-8647-b6c9667bd360"
      },
      "execution_count": null,
      "outputs": [
        {
          "output_type": "stream",
          "name": "stdout",
          "text": [
            "Mean: 66.4125   Mode: 65   Median: 65.0   Max: 115   Min: 12 Quantiles: [61.0, 65.0, 73.0]\n"
          ]
        }
      ]
    },
    {
      "cell_type": "code",
      "source": [
        "print(\"Amplitude:\", max(L) - min(L))\n",
        "print(\"Variance\", st.variance(L))\n",
        "print(\"StandardDeviation:\", st.stdev(L))\n",
        "print(\"Coeficiente de variancia:\", (st.stdev(L)/st.variance(L))*100 )\n",
        "\n",
        "print(\"Coeficiente de assimetria:\", (st.quantiles(L)[2])/(st.median(L)**(3/2)))\n"
      ],
      "metadata": {
        "colab": {
          "base_uri": "https://localhost:8080/"
        },
        "id": "OgCcyy52yFLD",
        "outputId": "7ec5f63a-6ac3-464a-b24c-ffdd74edfa1d"
      },
      "execution_count": null,
      "outputs": [
        {
          "output_type": "stream",
          "name": "stdout",
          "text": [
            "Amplitude: 103\n",
            "Variance 210.49857594936708\n",
            "StandardDeviation: 14.508569052438187\n",
            "Coeficiente de variancia: 6.89247848210054\n",
            "Coeficiente de assimetria: 0.139300548077111\n"
          ]
        }
      ]
    },
    {
      "cell_type": "code",
      "source": [
        "L2 = [64,67,94,89,119,70,81,104,89,61,93,79,84\n",
        ",76,58,84,99,83,111,87,72,104,55,76,102,100\n",
        ",88,86,75,89,92,67,99,86,116,60,46,110,104\n",
        ",87,104,68,88,94,48,99,91,88,99,57,78,65\n",
        ",74,82,79,115,71,54,114,93,96,60,111,104,114\n",
        ",78,127,60,82,131,71,111,101,120,91,84,80,113\n",
        ",87,104,81,134,71,112,74,66,69,83,90,79,98\n",
        ",88,124,47,97,108,78,104,49,122,101,91,75,45\n",
        ",91,89,88,78,84,102,72,78,92,116,79,103,65\n",
        ",101,29,87,71,127,230,94,79,80,75,74,88,27\n",
        ",50,86,87,77,114,95,77,87,96,101,78,105,58\n",
        ",70,70,99,62,81,93,87,87,90,87,82,117,68\n",
        ",72,118,95,127,106,88,81,109,104,108,114,96,94\n",
        ",111,69,108,101,55,92,89,84,38,54,55,79,77\n",
        ",127,79,49,62,104,88,59,84,126,54,101,79,79\n",
        ",100,89,100,70,85,54,315]\n",
        "\n"
      ],
      "metadata": {
        "id": "gVQwHYyi7VJI"
      },
      "execution_count": 8,
      "outputs": []
    },
    {
      "cell_type": "code",
      "source": [
        "L3 = [11,5,2,0,9,9,1,5,1,3,\n",
        "3,3,7,4,12,8,5,2,6,1,\n",
        "11,1,2,4,2,1,3,9,0,10,\n",
        "3,3,1,5,18,4,22,8,3,0,\n",
        "8,9,2,3,12,1,3,1,7,5,\n",
        "14,7,7,28,1,3,2,11,13,2,\n",
        "0,1,6,12,15,0,6,7,19,1,\n",
        "1,9,1,5,3,17,10,15,43,2,\n",
        "6,1,13,13,19,10,9,20,19,2,\n",
        "27,5,20,5,10,8,2,3,1,1,\n",
        "4,3,6,13,10,9,1,1,3,9,\n",
        "9,4,0,3,6,3,27,3,18,4,\n",
        "6,0,2,2,8,4,5,1,4,18,\n",
        "1,0,16,20,2,2,2,12,28,0,\n",
        "7,3,18,12,3,2,8,3,19,12,\n",
        "5,4,6,0,5,0,3,7,0,8,\n",
        "8,12,3,7,1,3,1,3,2,5,\n",
        "4,9,4,12,4,11,9,2,0,5,\n",
        "8,24,1,5,12,9,17,728,12,6,\n",
        "4,3,5,7,4,4,4,11,3,8]\n"
      ],
      "metadata": {
        "id": "1AEODoS2C-iX"
      },
      "execution_count": null,
      "outputs": []
    },
    {
      "cell_type": "code",
      "source": [
        "a = st.quantiles(L2)[2] - st.quantiles(L2)[0]\n",
        "print(a)"
      ],
      "metadata": {
        "colab": {
          "base_uri": "https://localhost:8080/"
        },
        "id": "uGr_0hCC8fqG",
        "outputId": "373cbfb8-31fe-493a-bcf7-be73cd614c0f"
      },
      "execution_count": null,
      "outputs": [
        {
          "output_type": "stream",
          "name": "stdout",
          "text": [
            "27.0\n"
          ]
        }
      ]
    },
    {
      "cell_type": "code",
      "source": [
        "import copy as cp\n",
        "def outlier_mod_nd_ext(L):\n",
        "  a = st.quantiles(L)[2] - st.quantiles(L)[0]\n",
        "\n",
        "  outlier_moderado = []\n",
        "  outlier_extremo = []\n",
        "  \n",
        "  no_outlier_list = cp.deepcopy(L)\n",
        "\n",
        "  for value in L:\n",
        "    if(value < st.quantiles(L)[0] - 1.5*a or value > st.quantiles(L)[2] + 1.5*a):\n",
        "      outlier_moderado.append(value)\n",
        "      if value in no_outlier_list: no_outlier_list.remove(value)\n",
        "\n",
        "    if(value < st.quantiles(L)[0] - 3*a or value > st.quantiles(L)[2] + 3*a):\n",
        "      outlier_extremo.append(value)\n",
        "\n",
        "      if value in no_outlier_list: no_outlier_list.remove(value)\n",
        "\n",
        "\n",
        "  return outlier_moderado, outlier_extremo, no_outlier_list\n",
        "\n"
      ],
      "metadata": {
        "id": "JyqbgcQcIbPd"
      },
      "execution_count": 55,
      "outputs": []
    },
    {
      "cell_type": "code",
      "source": [
        "print(outlier_mod_nd_ext(L2))"
      ],
      "metadata": {
        "colab": {
          "base_uri": "https://localhost:8080/"
        },
        "id": "4OYsPZtHJjNq",
        "outputId": "374822f7-b56c-4f36-bd44-e677eab8a24b"
      },
      "execution_count": 19,
      "outputs": [
        {
          "output_type": "stream",
          "name": "stdout",
          "text": [
            "([29, 230, 27, 315], [230, 315], [64, 67, 94, 89, 119, 70, 81, 104, 89, 61, 93, 79, 84, 76, 58, 84, 99, 83, 111, 87, 72, 104, 55, 76, 102, 100, 88, 86, 75, 89, 92, 67, 99, 86, 116, 60, 46, 110, 104, 87, 104, 68, 88, 94, 48, 99, 91, 88, 99, 57, 78, 65, 74, 82, 79, 115, 71, 54, 114, 93, 96, 60, 111, 104, 114, 78, 127, 60, 82, 131, 71, 111, 101, 120, 91, 84, 80, 113, 87, 104, 81, 134, 71, 112, 74, 66, 69, 83, 90, 79, 98, 88, 124, 47, 97, 108, 78, 104, 49, 122, 101, 91, 75, 45, 91, 89, 88, 78, 84, 102, 72, 78, 92, 116, 79, 103, 65, 101, 87, 71, 127, 94, 79, 80, 75, 74, 88, 50, 86, 87, 77, 114, 95, 77, 87, 96, 101, 78, 105, 58, 70, 70, 99, 62, 81, 93, 87, 87, 90, 87, 82, 117, 68, 72, 118, 95, 127, 106, 88, 81, 109, 104, 108, 114, 96, 94, 111, 69, 108, 101, 55, 92, 89, 84, 38, 54, 55, 79, 77, 127, 79, 49, 62, 104, 88, 59, 84, 126, 54, 101, 79, 79, 100, 89, 100, 70, 85, 54])\n"
          ]
        }
      ]
    },
    {
      "cell_type": "code",
      "source": [
        "L5= [11,5,2,0,9,9,1,5,1,3,3,3,7,4,12,8,5,2,6,1,11,1,2,4,2,1,3,9,0,10,3,3,1,5,18, \n",
        "     4,22,8,3,0,8,9,2,3,12,1,3,1,7,5,14,7,7,28,1,3,2,11,13,2,0,1,6,12,15,0,6,7,19,\n",
        "     1,1,9,1,5,3,17,10,15,43,2,6,1,13,13,19,10,9,20,19,2,27,5,20,5,10,8,2,3,1,1,4,\n",
        "     3,6,13,10,9,1,1,3,9,9,4,0,3,6,3,27,3,18,4,6,0,2,2,8,4,5,1,4,18,1\n",
        "     ,0,16,20,2,2, 2,12,28,0,7,3,18,12,3,2,8,3,19,12,5,4,6,0,5,0,3,7,0,8,8,12,3\n",
        "     ,7,1,3,1,3,2,5,4, 9,4,12,4,11,9,2,0,5,8,24,1,5,12,9,17,728,12,6,4,3,5,7,4,4\n",
        "     ,4,11,3,8]"
      ],
      "metadata": {
        "id": "oED0vlibymkw"
      },
      "execution_count": 59,
      "outputs": []
    },
    {
      "cell_type": "code",
      "source": [
        "print(L5)"
      ],
      "metadata": {
        "colab": {
          "base_uri": "https://localhost:8080/"
        },
        "id": "c1ebJ4TxyqIP",
        "outputId": "cb566adf-9fb1-4003-d207-552c50165c08"
      },
      "execution_count": 56,
      "outputs": [
        {
          "output_type": "stream",
          "name": "stdout",
          "text": [
            "[11, 5, 2, 0, 9, 9, 1, 5, 1, 3, 3, 3, 7, 4, 12, 8, 5, 2, 6, 1, 11, 1, 2, 4, 2, 1, 3, 9, 0, 10, 3, 3, 1, 5, 18, 4, 8, 3, 0, 8, 9, 2, 3, 12, 1, 3, 1, 7, 5, 14, 7, 7, 1, 3, 2, 11, 13, 2, 0, 1, 6, 12, 15, 0, 6, 7, 19, 1, 1, 9, 1, 5, 3, 17, 10, 15, 2, 6, 1, 13, 13, 19, 10, 9, 19, 2, 5, 5, 10, 8, 2, 3, 1, 1, 4, 3, 6, 13, 10, 9, 1, 1, 3, 9, 9, 4, 0, 3, 6, 3, 3, 18, 4, 6, 0, 2, 2, 8, 4, 5, 1, 4, 18, 1, 0, 16, 2, 2, 2, 12, 0, 7, 3, 18, 12, 3, 2, 8, 3, 19, 12, 5, 4, 6, 0, 5, 0, 3, 7, 0, 8, 8, 12, 3, 7, 1, 3, 1, 3, 2, 5, 4, 9, 4, 12, 4, 11, 9, 2, 0, 5, 8, 1, 5, 12, 9, 17, 12, 6, 4, 3, 5, 7, 4, 4, 4, 11, 3, 8]\n"
          ]
        }
      ]
    },
    {
      "cell_type": "code",
      "source": [
        "a1, a2, no_outlier_L = outlier_mod_nd_ext(L5)"
      ],
      "metadata": {
        "id": "GeSXG4ZPy4sb"
      },
      "execution_count": 60,
      "outputs": []
    },
    {
      "cell_type": "code",
      "source": [],
      "metadata": {
        "id": "a-WqZwmi4Gxg"
      },
      "execution_count": null,
      "outputs": []
    },
    {
      "cell_type": "code",
      "source": [
        "no_outlier_L"
      ],
      "metadata": {
        "colab": {
          "base_uri": "https://localhost:8080/"
        },
        "id": "SZURxR-Rz0fG",
        "outputId": "b5d9e6cf-cd21-4b03-a277-41cc750400ab"
      },
      "execution_count": 43,
      "outputs": [
        {
          "output_type": "execute_result",
          "data": {
            "text/plain": [
              "[11,\n",
              " 5,\n",
              " 2,\n",
              " 0,\n",
              " 9,\n",
              " 9,\n",
              " 1,\n",
              " 5,\n",
              " 1,\n",
              " 3,\n",
              " 3,\n",
              " 3,\n",
              " 7,\n",
              " 4,\n",
              " 12,\n",
              " 8,\n",
              " 5,\n",
              " 2,\n",
              " 6,\n",
              " 1,\n",
              " 11,\n",
              " 1,\n",
              " 2,\n",
              " 4,\n",
              " 2,\n",
              " 1,\n",
              " 3,\n",
              " 9,\n",
              " 0,\n",
              " 10,\n",
              " 3,\n",
              " 3,\n",
              " 1,\n",
              " 5,\n",
              " 18,\n",
              " 4,\n",
              " 8,\n",
              " 3,\n",
              " 0,\n",
              " 8,\n",
              " 9,\n",
              " 2,\n",
              " 3,\n",
              " 12,\n",
              " 1,\n",
              " 3,\n",
              " 1,\n",
              " 7,\n",
              " 5,\n",
              " 14,\n",
              " 7,\n",
              " 7,\n",
              " 1,\n",
              " 3,\n",
              " 2,\n",
              " 11,\n",
              " 13,\n",
              " 2,\n",
              " 0,\n",
              " 1,\n",
              " 6,\n",
              " 12,\n",
              " 15,\n",
              " 0,\n",
              " 6,\n",
              " 7,\n",
              " 19,\n",
              " 1,\n",
              " 1,\n",
              " 9,\n",
              " 1,\n",
              " 5,\n",
              " 3,\n",
              " 17,\n",
              " 10,\n",
              " 15,\n",
              " 2,\n",
              " 6,\n",
              " 1,\n",
              " 13,\n",
              " 13,\n",
              " 19,\n",
              " 10,\n",
              " 9,\n",
              " 19,\n",
              " 2,\n",
              " 5,\n",
              " 5,\n",
              " 10,\n",
              " 8,\n",
              " 2,\n",
              " 3,\n",
              " 1,\n",
              " 1,\n",
              " 4,\n",
              " 3,\n",
              " 6,\n",
              " 13,\n",
              " 10,\n",
              " 9,\n",
              " 1,\n",
              " 1,\n",
              " 3,\n",
              " 9,\n",
              " 9,\n",
              " 4,\n",
              " 0,\n",
              " 3,\n",
              " 6,\n",
              " 3,\n",
              " 3,\n",
              " 18,\n",
              " 4,\n",
              " 6,\n",
              " 0,\n",
              " 2,\n",
              " 2,\n",
              " 8,\n",
              " 4,\n",
              " 5,\n",
              " 1,\n",
              " 4,\n",
              " 18,\n",
              " 1,\n",
              " 0,\n",
              " 16,\n",
              " 2,\n",
              " 2,\n",
              " 2,\n",
              " 12,\n",
              " 0,\n",
              " 7,\n",
              " 3,\n",
              " 18,\n",
              " 12,\n",
              " 3,\n",
              " 2,\n",
              " 8,\n",
              " 3,\n",
              " 19,\n",
              " 12,\n",
              " 5,\n",
              " 4,\n",
              " 6,\n",
              " 0,\n",
              " 5,\n",
              " 0,\n",
              " 3,\n",
              " 7,\n",
              " 0,\n",
              " 8,\n",
              " 8,\n",
              " 12,\n",
              " 3,\n",
              " 7,\n",
              " 1,\n",
              " 3,\n",
              " 1,\n",
              " 3,\n",
              " 2,\n",
              " 5,\n",
              " 4,\n",
              " 9,\n",
              " 4,\n",
              " 12,\n",
              " 4,\n",
              " 11,\n",
              " 9,\n",
              " 2,\n",
              " 0,\n",
              " 5,\n",
              " 8,\n",
              " 1,\n",
              " 5,\n",
              " 12,\n",
              " 9,\n",
              " 17,\n",
              " 12,\n",
              " 6,\n",
              " 4,\n",
              " 3,\n",
              " 5,\n",
              " 7,\n",
              " 4,\n",
              " 4,\n",
              " 4,\n",
              " 11,\n",
              " 3,\n",
              " 8]"
            ]
          },
          "metadata": {},
          "execution_count": 43
        }
      ]
    },
    {
      "cell_type": "code",
      "source": [
        "\n",
        "import matplotlib.pyplot as plt\n",
        "import numpy as np\n",
        "\n",
        "\n",
        "# Creating dataset\n",
        "np.random.seed(10)\n",
        "data = np.random.normal(100, 20, 200)\n",
        "\n",
        "fig = plt.figure(figsize =(10, 7))\n",
        "\n",
        "# Creating plot\n",
        "plt.boxplot(no_outlier_L)\n",
        "\n",
        "# show plot\n",
        "plt.show()\n",
        "\n",
        "plt.boxplot(L5)\n",
        "\n",
        "# show plot\n",
        "plt.show()\n"
      ],
      "metadata": {
        "colab": {
          "base_uri": "https://localhost:8080/",
          "height": 1000
        },
        "id": "8ctpFmFUyF0u",
        "outputId": "8709992a-7add-468b-e7b6-e75e9eb4237e"
      },
      "execution_count": 64,
      "outputs": [
        {
          "output_type": "display_data",
          "data": {
            "text/plain": [
              "<Figure size 1000x700 with 1 Axes>"
            ],
            "image/png": "[encoded data removed]"
          },
          "metadata": {}
        },
        {
          "output_type": "display_data",
          "data": {
            "text/plain": [
              "<Figure size 640x480 with 1 Axes>"
            ],
            "image/png": "[encoded data removed]"
          },
          "metadata": {}
        }
      ]
    },
    {
      "cell_type": "code",
      "source": [
        "  \n",
        "import math as m \n",
        "classes = round( 1+ 3.3 * m.log10(199)) \n",
        "print(classes)"
      ],
      "metadata": {
        "colab": {
          "base_uri": "https://localhost:8080/"
        },
        "id": "666cVAad2fHa",
        "outputId": "6f13c8a2-e321-4660-8eae-1395914bc1b1"
      },
      "execution_count": 30,
      "outputs": [
        {
          "output_type": "stream",
          "name": "stdout",
          "text": [
            "9\n"
          ]
        }
      ]
    },
    {
      "cell_type": "code",
      "source": [
        "\n",
        "no_outlier_L == L5"
      ],
      "metadata": {
        "colab": {
          "base_uri": "https://localhost:8080/"
        },
        "id": "NKCLBTvu3gug",
        "outputId": "e2e9a691-eade-4507-d818-0e5c906893e8"
      },
      "execution_count": 61,
      "outputs": [
        {
          "output_type": "execute_result",
          "data": {
            "text/plain": [
              "False"
            ]
          },
          "metadata": {},
          "execution_count": 61
        }
      ]
    },
    {
      "cell_type": "code",
      "source": [
        "plt.hist(no_outlier_L, bins = classes)\n",
        "plt.show()\n",
        "plt.hist(L5, bins = classes)\n",
        "plt.show()"
      ],
      "metadata": {
        "colab": {
          "base_uri": "https://localhost:8080/",
          "height": 843
        },
        "id": "sqbAXxFK2lHX",
        "outputId": "d2103cf0-508d-4dfa-9c7b-a6918ef13500"
      },
      "execution_count": 62,
      "outputs": [
        {
          "output_type": "display_data",
          "data": {
            "text/plain": [
              "<Figure size 640x480 with 1 Axes>"
            ],
            "image/png": "[encoded data removed]"
          },
          "metadata": {}
        },
        {
          "output_type": "display_data",
          "data": {
            "text/plain": [
              "<Figure size 640x480 with 1 Axes>"
            ],
            "image/png": "[encoded data removed]"
          },
          "metadata": {}
        }
      ]
    },
    {
      "cell_type": "code",
      "source": [
        "L6 = [64,67,94,89,119,70,81,104,89,61,93,79,84,\n",
        "76,58,84,99,83,111,87,72,104,55,76,102,100,\n",
        "88,86,75,89,92,67,99,86,116,60,46,110,104,\n",
        "87,104,68,88,94,48,99,91,88,99,57,78,65,\n",
        "74,82,79,115,71,54,114,93,96,60,111,104,114,\n",
        "78,127,60,82,131,71,111,101,120,91,84,80,113,\n",
        "87,104,81,134,71,112,74,66,69,83,90,79,98,\n",
        "88,124,47,97,108,78,104,49,122,101,91,75,45,\n",
        "91,89,88,78,84,102,72,78,92,116,79,103,65,\n",
        "101,29,87,71,127,230,94,79,80,75,74,88,27,\n",
        "50,86,87,77,114,95,77,87,96,101,78,105,58,\n",
        "70,70,99,62,81,93,87,87,90,87,82,117,68,\n",
        "72,118,95,127,106,88,81,109,104,108,114,96,94,\n",
        "111,69,108,101,55,92,89,84,38,54,55,79,77,\n",
        "127,79,49,62,104,88,59,84,126,54,101,79,79,\n",
        "100,89,100,70,85,54,315]"
      ],
      "metadata": {
        "id": "zHMQoozg5gy3"
      },
      "execution_count": 66,
      "outputs": []
    },
    {
      "cell_type": "code",
      "source": [
        "a1, a2, no_outlier_L = outlier_mod_nd_ext(L6)\n",
        "\n",
        "\n",
        "\n",
        "import matplotlib.pyplot as plt\n",
        "import numpy as np\n",
        "\n",
        "\n",
        "# Creating dataset\n",
        "np.random.seed(10)\n",
        "data = np.random.normal(100, 20, 200)\n",
        "\n",
        "fig = plt.figure(figsize =(10, 7))\n",
        "\n",
        "# Creating plot\n",
        "plt.boxplot(no_outlier_L)\n",
        "\n",
        "# show plot\n",
        "plt.show()\n",
        "\n",
        "plt.boxplot(L5)\n",
        "\n",
        "# show plot\n",
        "plt.show()\n",
        "\n",
        "plt.hist(no_outlier_L, bins = classes)\n",
        "plt.show()\n",
        "plt.hist(L6, bins = classes)\n",
        "plt.show()\n"
      ],
      "metadata": {
        "colab": {
          "base_uri": "https://localhost:8080/",
          "height": 1000
        },
        "id": "XfmB5Ijx6YZD",
        "outputId": "f7d391ad-934a-4bb8-ca96-df0bfa0af486"
      },
      "execution_count": 68,
      "outputs": [
        {
          "output_type": "display_data",
          "data": {
            "text/plain": [
              "<Figure size 1000x700 with 1 Axes>"
            ],
            "image/png": "[encoded data removed]"
          },
          "metadata": {}
        },
        {
          "output_type": "display_data",
          "data": {
            "text/plain": [
              "<Figure size 640x480 with 1 Axes>"
            ],
            "image/png": "[encoded data removed]"
          },
          "metadata": {}
        },
        {
          "output_type": "display_data",
          "data": {
            "text/plain": [
              "<Figure size 640x480 with 1 Axes>"
            ],
            "image/png": "[encoded data removed]"
          },
          "metadata": {}
        },
        {
          "output_type": "display_data",
          "data": {
            "text/plain": [
              "<Figure size 640x480 with 1 Axes>"
            ],
            "image/png": "[encoded data removed]"
          },
          "metadata": {}
        }
      ]
    }
  ]
}